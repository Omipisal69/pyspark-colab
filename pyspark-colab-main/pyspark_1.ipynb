{
  "nbformat": 4,
  "nbformat_minor": 0,
  "metadata": {
    "colab": {
      "provenance": [],
      "authorship_tag": "ABX9TyP/pTcQOKlZarL6q7CNWvu+",
      "include_colab_link": true
    },
    "kernelspec": {
      "name": "python3",
      "display_name": "Python 3"
    },
    "language_info": {
      "name": "python"
    }
  },
  "cells": [
    {
      "cell_type": "markdown",
      "metadata": {
        "id": "view-in-github",
        "colab_type": "text"
      },
      "source": [
        "<a href=\"https://colab.research.google.com/github/ChetanKnowIt/pyspark-colab/blob/main/pyspark_1.ipynb\" target=\"_parent\"><img src=\"https://colab.research.google.com/assets/colab-badge.svg\" alt=\"Open In Colab\"/></a>"
      ]
    },
    {
      "cell_type": "code",
      "execution_count": null,
      "metadata": {
        "id": "tQZBcf_0HZh9"
      },
      "outputs": [],
      "source": [
        "!apt-get install openjdk-8-jdk-headless -qq > /dev/null"
      ]
    },
    {
      "cell_type": "code",
      "source": [
        "pip install pyspark"
      ],
      "metadata": {
        "colab": {
          "base_uri": "https://localhost:8080/"
        },
        "id": "kKjK69isHwW9",
        "outputId": "b67a2bcd-1e84-4e6d-b0f6-022c6d06871e"
      },
      "execution_count": null,
      "outputs": [
        {
          "output_type": "stream",
          "name": "stdout",
          "text": [
            "Looking in indexes: https://pypi.org/simple, https://us-python.pkg.dev/colab-wheels/public/simple/\n",
            "Collecting pyspark\n",
            "  Downloading pyspark-3.3.1.tar.gz (281.4 MB)\n",
            "\u001b[2K     \u001b[90m━━━━━━━━━━━━━━━━━━━━━━━━━━━━━━━━━━━━━━━\u001b[0m \u001b[32m281.4/281.4 MB\u001b[0m \u001b[31m5.0 MB/s\u001b[0m eta \u001b[36m0:00:00\u001b[0m\n",
            "\u001b[?25h  Preparing metadata (setup.py) ... \u001b[?25l\u001b[?25hdone\n",
            "Collecting py4j==0.10.9.5\n",
            "  Downloading py4j-0.10.9.5-py2.py3-none-any.whl (199 kB)\n",
            "\u001b[2K     \u001b[90m━━━━━━━━━━━━━━━━━━━━━━━━━━━━━━━━━━━━━━\u001b[0m \u001b[32m199.7/199.7 KB\u001b[0m \u001b[31m22.7 MB/s\u001b[0m eta \u001b[36m0:00:00\u001b[0m\n",
            "\u001b[?25hBuilding wheels for collected packages: pyspark\n",
            "  Building wheel for pyspark (setup.py) ... \u001b[?25l\u001b[?25hdone\n",
            "  Created wheel for pyspark: filename=pyspark-3.3.1-py2.py3-none-any.whl size=281845512 sha256=742e343084a6d6beaa7f275baa28f6b090b026da5c57350fe37a6ba098cb11e1\n",
            "  Stored in directory: /root/.cache/pip/wheels/43/dc/11/ec201cd671da62fa9c5cc77078235e40722170ceba231d7598\n",
            "Successfully built pyspark\n",
            "Installing collected packages: py4j, pyspark\n",
            "Successfully installed py4j-0.10.9.5 pyspark-3.3.1\n"
          ]
        }
      ]
    },
    {
      "cell_type": "markdown",
      "source": [
        "# Read data from text file:"
      ],
      "metadata": {
        "id": "P_FS-irzH8qY"
      }
    },
    {
      "cell_type": "code",
      "source": [
        "import pyspark\n",
        "from pyspark.sql import SparkSession"
      ],
      "metadata": {
        "id": "ObKGBPXIHxvM"
      },
      "execution_count": null,
      "outputs": []
    },
    {
      "cell_type": "code",
      "source": [
        "\n",
        "spark = SparkSession.builder.master(\"local[4]\")\\\n",
        "\t\t\t\t\t\t\t\t\t\t.appName('chetan')\\\n",
        "\t\t\t\t\t\t\t\t\t\t.getOrCreate()"
      ],
      "metadata": {
        "id": "fU57ElIiIXzP"
      },
      "execution_count": null,
      "outputs": []
    },
    {
      "cell_type": "code",
      "source": [
        "sc = spark.sparkContext"
      ],
      "metadata": {
        "id": "sG_smdHmIqDf"
      },
      "execution_count": null,
      "outputs": []
    },
    {
      "cell_type": "code",
      "source": [
        "rdd = sc.textFile('fruits.txt,fruits1.txt')\n",
        "rdd.collect()"
      ],
      "metadata": {
        "colab": {
          "base_uri": "https://localhost:8080/"
        },
        "id": "BonFMrCSIsIu",
        "outputId": "a8cc018e-bed9-4a0d-df57-789eb324dbac"
      },
      "execution_count": null,
      "outputs": [
        {
          "output_type": "execute_result",
          "data": {
            "text/plain": [
              "['Apple Orange Mango',\n",
              " 'Orange Grapes Plum',\n",
              " 'Apple Plum Mango',\n",
              " 'Apple Apple Plum',\n",
              " 'Pineapple Apple Mango',\n",
              " 'Mango Banana Berry',\n",
              " 'Cherry Mango Apple',\n",
              " 'Banana Apple Cherry']"
            ]
          },
          "metadata": {},
          "execution_count": 12
        }
      ]
    },
    {
      "cell_type": "markdown",
      "source": [
        "# Transformation functions:"
      ],
      "metadata": {
        "id": "SApJQaowLEYD"
      }
    },
    {
      "cell_type": "markdown",
      "source": [
        "### flatMap"
      ],
      "metadata": {
        "id": "g6qhiNKrJ2Yu"
      }
    },
    {
      "cell_type": "code",
      "source": [
        "rdd2 = rdd.flatMap(lambda x: x.split())\n",
        "rdd2.collect()"
      ],
      "metadata": {
        "colab": {
          "base_uri": "https://localhost:8080/"
        },
        "id": "ymzXLAg_J0jy",
        "outputId": "c0a45b09-5633-4b3d-8fd5-8990b991263f"
      },
      "execution_count": null,
      "outputs": [
        {
          "output_type": "execute_result",
          "data": {
            "text/plain": [
              "['Apple',\n",
              " 'Orange',\n",
              " 'Mango',\n",
              " 'Orange',\n",
              " 'Grapes',\n",
              " 'Plum',\n",
              " 'Apple',\n",
              " 'Plum',\n",
              " 'Mango',\n",
              " 'Apple',\n",
              " 'Apple',\n",
              " 'Plum',\n",
              " 'Pineapple',\n",
              " 'Apple',\n",
              " 'Mango',\n",
              " 'Mango',\n",
              " 'Banana',\n",
              " 'Berry',\n",
              " 'Cherry',\n",
              " 'Mango',\n",
              " 'Apple',\n",
              " 'Banana',\n",
              " 'Apple',\n",
              " 'Cherry']"
            ]
          },
          "metadata": {},
          "execution_count": 16
        }
      ]
    },
    {
      "cell_type": "markdown",
      "source": [
        "### map"
      ],
      "metadata": {
        "id": "GH6gARDiKU3P"
      }
    },
    {
      "cell_type": "code",
      "source": [
        "rdd3 = rdd2.map(lambda x: (x,1))\n",
        "rdd3.collect()"
      ],
      "metadata": {
        "colab": {
          "base_uri": "https://localhost:8080/"
        },
        "id": "vrIri68XKWPy",
        "outputId": "7546f27b-235f-4132-90c4-09f0eed8e75e"
      },
      "execution_count": null,
      "outputs": [
        {
          "output_type": "execute_result",
          "data": {
            "text/plain": [
              "[('Apple', 1),\n",
              " ('Orange', 1),\n",
              " ('Mango', 1),\n",
              " ('Orange', 1),\n",
              " ('Grapes', 1),\n",
              " ('Plum', 1),\n",
              " ('Apple', 1),\n",
              " ('Plum', 1),\n",
              " ('Mango', 1),\n",
              " ('Apple', 1),\n",
              " ('Apple', 1),\n",
              " ('Plum', 1),\n",
              " ('Pineapple', 1),\n",
              " ('Apple', 1),\n",
              " ('Mango', 1),\n",
              " ('Mango', 1),\n",
              " ('Banana', 1),\n",
              " ('Berry', 1),\n",
              " ('Cherry', 1),\n",
              " ('Mango', 1),\n",
              " ('Apple', 1),\n",
              " ('Banana', 1),\n",
              " ('Apple', 1),\n",
              " ('Cherry', 1)]"
            ]
          },
          "metadata": {},
          "execution_count": 20
        }
      ]
    },
    {
      "cell_type": "markdown",
      "source": [
        "### reduceByKey"
      ],
      "metadata": {
        "id": "ALRSZsLmK9cc"
      }
    },
    {
      "cell_type": "code",
      "source": [
        "rdd4 = rdd3.reduceByKey(lambda a,b: a+b)\n",
        "rdd4.collect()"
      ],
      "metadata": {
        "colab": {
          "base_uri": "https://localhost:8080/"
        },
        "id": "YrX-OIKnKd_2",
        "outputId": "e4b371f6-89e3-410b-8ca9-3c8e9df80ee3"
      },
      "execution_count": null,
      "outputs": [
        {
          "output_type": "execute_result",
          "data": {
            "text/plain": [
              "[('Apple', 7),\n",
              " ('Orange', 2),\n",
              " ('Pineapple', 1),\n",
              " ('Berry', 1),\n",
              " ('Cherry', 2),\n",
              " ('Mango', 5),\n",
              " ('Grapes', 1),\n",
              " ('Plum', 3),\n",
              " ('Banana', 2)]"
            ]
          },
          "metadata": {},
          "execution_count": 21
        }
      ]
    },
    {
      "cell_type": "markdown",
      "source": [
        "### sortByKey"
      ],
      "metadata": {
        "id": "jssEcH0_Lr4d"
      }
    },
    {
      "cell_type": "code",
      "source": [
        "rdd5 = rdd4.map(lambda x: (x[1],x[0])).sortByKey()\n",
        "rdd5.collect()"
      ],
      "metadata": {
        "colab": {
          "base_uri": "https://localhost:8080/"
        },
        "id": "Uldecx6yLtsu",
        "outputId": "3a107fb4-26db-4b68-ddb7-5547776c3ecb"
      },
      "execution_count": null,
      "outputs": [
        {
          "output_type": "execute_result",
          "data": {
            "text/plain": [
              "[(1, 'Pineapple'),\n",
              " (1, 'Berry'),\n",
              " (1, 'Grapes'),\n",
              " (2, 'Orange'),\n",
              " (2, 'Cherry'),\n",
              " (2, 'Banana'),\n",
              " (3, 'Plum'),\n",
              " (5, 'Mango'),\n",
              " (7, 'Apple')]"
            ]
          },
          "metadata": {},
          "execution_count": 22
        }
      ]
    },
    {
      "cell_type": "code",
      "source": [
        "rdd5 = rdd4.map(lambda x: (x[0],x[1])).sortByKey()\n",
        "rdd5.collect()"
      ],
      "metadata": {
        "colab": {
          "base_uri": "https://localhost:8080/"
        },
        "id": "byyaLAv9L_Zv",
        "outputId": "ee5f3e1e-9bac-43c1-da89-30bbb650debf"
      },
      "execution_count": null,
      "outputs": [
        {
          "output_type": "execute_result",
          "data": {
            "text/plain": [
              "[('Apple', 7),\n",
              " ('Banana', 2),\n",
              " ('Berry', 1),\n",
              " ('Cherry', 2),\n",
              " ('Grapes', 1),\n",
              " ('Mango', 5),\n",
              " ('Orange', 2),\n",
              " ('Pineapple', 1),\n",
              " ('Plum', 3)]"
            ]
          },
          "metadata": {},
          "execution_count": 23
        }
      ]
    },
    {
      "cell_type": "markdown",
      "source": [
        "### filter "
      ],
      "metadata": {
        "id": "Rhb3yN6HNm50"
      }
    },
    {
      "cell_type": "code",
      "source": [
        "rdd6 = rdd3.filter(lambda x: x[0].startswith('B'))\n",
        "rdd6.collect()"
      ],
      "metadata": {
        "colab": {
          "base_uri": "https://localhost:8080/"
        },
        "id": "S8iEi_BxNpil",
        "outputId": "1cde2c98-2927-4b93-8c6f-d1a97ce02769"
      },
      "execution_count": null,
      "outputs": [
        {
          "output_type": "execute_result",
          "data": {
            "text/plain": [
              "[('Banana', 1), ('Berry', 1), ('Banana', 1)]"
            ]
          },
          "metadata": {},
          "execution_count": 25
        }
      ]
    },
    {
      "cell_type": "markdown",
      "source": [
        "# Word Count in PySpark"
      ],
      "metadata": {
        "id": "cuZE8wlrN9ZJ"
      }
    },
    {
      "cell_type": "code",
      "source": [
        "text_file = sc.textFile(\"fruits.txt\")\n",
        "counts = text_file.flatMap(lambda line: line.split(\" \"))\\\n",
        "                  .map(lambda word: (word,1))\\\n",
        "                  .reduceByKey(lambda x,y: x+y)\n",
        "counts.collect()                 "
      ],
      "metadata": {
        "colab": {
          "base_uri": "https://localhost:8080/"
        },
        "id": "1FvNcZShN2c2",
        "outputId": "405f3b29-45bf-4cab-bf5f-f3dc7bc3f29b"
      },
      "execution_count": null,
      "outputs": [
        {
          "output_type": "execute_result",
          "data": {
            "text/plain": [
              "[('Apple', 4), ('Orange', 2), ('Mango', 2), ('Grapes', 1), ('Plum', 3)]"
            ]
          },
          "metadata": {},
          "execution_count": 29
        }
      ]
    },
    {
      "cell_type": "code",
      "source": [
        "for (word,count) in counts.collect():\n",
        "  print(\"%s:%i\" % (word,count))"
      ],
      "metadata": {
        "colab": {
          "base_uri": "https://localhost:8080/"
        },
        "id": "FRZradecOfSJ",
        "outputId": "ad246ab8-06be-48ef-adf5-77fcf673a298"
      },
      "execution_count": null,
      "outputs": [
        {
          "output_type": "stream",
          "name": "stdout",
          "text": [
            "Apple:4\n",
            "Orange:2\n",
            "Mango:2\n",
            "Grapes:1\n",
            "Plum:3\n"
          ]
        }
      ]
    },
    {
      "cell_type": "markdown",
      "source": [
        "# Average of Ages in PySpark"
      ],
      "metadata": {
        "id": "K9Ei9tc4QUEr"
      }
    },
    {
      "cell_type": "code",
      "source": [
        "ages_text_file = sc.textFile(\"ages.txt\")\n",
        "counts = ages_text_file.flatMap(lambda line: line.split())\\\n",
        "                  .filter(lambda x: x.isdigit())\\\n",
        "                  .map(lambda word:(1,int(word)))\n",
        "counts.collect()                 "
      ],
      "metadata": {
        "colab": {
          "base_uri": "https://localhost:8080/"
        },
        "id": "gnWrx8zPQW1_",
        "outputId": "6a998e25-08e7-4f3b-ee9e-38b87b4e9509"
      },
      "execution_count": null,
      "outputs": [
        {
          "output_type": "execute_result",
          "data": {
            "text/plain": [
              "[(1, 21), (1, 22), (1, 24), (1, 22), (1, 25), (1, 27), (1, 29), (1, 20)]"
            ]
          },
          "metadata": {},
          "execution_count": 47
        }
      ]
    },
    {
      "cell_type": "code",
      "source": [
        "def avg(rdd):\n",
        "  add =0; cnt = 0\n",
        "  for x,y in rdd.collect():\n",
        "    add += y\n",
        "    cnt += 1\n",
        "  return(sc.parallelize([add/cnt]))"
      ],
      "metadata": {
        "id": "l0S8dWYeVMs7"
      },
      "execution_count": null,
      "outputs": []
    },
    {
      "cell_type": "code",
      "source": [
        "avg_age = avg(counts)\n",
        "avg_age.collect()"
      ],
      "metadata": {
        "colab": {
          "base_uri": "https://localhost:8080/"
        },
        "id": "w8xBnxIsVdgQ",
        "outputId": "cbdf95c2-9ec0-42b2-89bd-c6b21676f507"
      },
      "execution_count": null,
      "outputs": [
        {
          "output_type": "execute_result",
          "data": {
            "text/plain": [
              "[23.75]"
            ]
          },
          "metadata": {},
          "execution_count": 50
        }
      ]
    },
    {
      "cell_type": "markdown",
      "source": [
        "# basic rdd operations"
      ],
      "metadata": {
        "id": "7k_fRRjpX-bI"
      }
    },
    {
      "cell_type": "code",
      "source": [
        "rdd = sc.parallelize([1,2,3,4,5,6,7,8])"
      ],
      "metadata": {
        "id": "7_1vU0cBXz22"
      },
      "execution_count": null,
      "outputs": []
    },
    {
      "cell_type": "code",
      "source": [
        "print(\"Count: \"+str(rdd.count()))"
      ],
      "metadata": {
        "colab": {
          "base_uri": "https://localhost:8080/"
        },
        "id": "dxHGbDasYGum",
        "outputId": "f2a0eca3-f3cc-48cf-b784-bb9cbcba0b2a"
      },
      "execution_count": null,
      "outputs": [
        {
          "output_type": "stream",
          "name": "stdout",
          "text": [
            "Count: 8\n"
          ]
        }
      ]
    },
    {
      "cell_type": "code",
      "source": [
        "firstRec = rdd.first()\n",
        "print(\"First Record: \"+str(firstRec))"
      ],
      "metadata": {
        "colab": {
          "base_uri": "https://localhost:8080/"
        },
        "id": "ZEEFPSLwYLfD",
        "outputId": "3cd402ae-6b74-42e1-a503-9cc3613e185a"
      },
      "execution_count": null,
      "outputs": [
        {
          "output_type": "stream",
          "name": "stdout",
          "text": [
            "First Record: 1\n"
          ]
        }
      ]
    },
    {
      "cell_type": "code",
      "source": [
        "print(\"Maximum: \", rdd.max())"
      ],
      "metadata": {
        "colab": {
          "base_uri": "https://localhost:8080/"
        },
        "id": "wueAt7J7YRmb",
        "outputId": "2b23163a-4bbf-40cb-dc35-e4690b86e33d"
      },
      "execution_count": null,
      "outputs": [
        {
          "output_type": "stream",
          "name": "stdout",
          "text": [
            "Maximum:  8\n"
          ]
        }
      ]
    },
    {
      "cell_type": "code",
      "source": [
        "print(\"Take 3: \", rdd.take(3))"
      ],
      "metadata": {
        "colab": {
          "base_uri": "https://localhost:8080/"
        },
        "id": "qZYxlkhOYb9N",
        "outputId": "5dc6b9b6-3f36-4347-fb4b-3c104c5e6bd9"
      },
      "execution_count": null,
      "outputs": [
        {
          "output_type": "stream",
          "name": "stdout",
          "text": [
            "Take 3:  [1, 2, 3]\n"
          ]
        }
      ]
    },
    {
      "cell_type": "code",
      "source": [
        "rdd.sum()"
      ],
      "metadata": {
        "colab": {
          "base_uri": "https://localhost:8080/"
        },
        "id": "udYjlRBVYhhn",
        "outputId": "cbcaddd0-ee71-4844-9ca5-2d5d2351d708"
      },
      "execution_count": null,
      "outputs": [
        {
          "output_type": "execute_result",
          "data": {
            "text/plain": [
              "36"
            ]
          },
          "metadata": {},
          "execution_count": 57
        }
      ]
    },
    {
      "cell_type": "code",
      "source": [
        "rdd.mean()"
      ],
      "metadata": {
        "colab": {
          "base_uri": "https://localhost:8080/"
        },
        "id": "1qC7agI9YjLu",
        "outputId": "c786e655-9c0b-4cf6-8cb7-5bbedb6d5c5a"
      },
      "execution_count": null,
      "outputs": [
        {
          "output_type": "execute_result",
          "data": {
            "text/plain": [
              "4.5"
            ]
          },
          "metadata": {},
          "execution_count": 58
        }
      ]
    },
    {
      "cell_type": "code",
      "source": [],
      "metadata": {
        "id": "5HfmpjN_ZBfe"
      },
      "execution_count": null,
      "outputs": []
    }
  ]
}