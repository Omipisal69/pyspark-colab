{
  "nbformat": 4,
  "nbformat_minor": 0,
  "metadata": {
    "colab": {
      "provenance": [],
      "authorship_tag": "ABX9TyOvRw3qun9PRjXS57EUSHUx",
      "include_colab_link": true
    },
    "kernelspec": {
      "name": "python3",
      "display_name": "Python 3"
    },
    "language_info": {
      "name": "python"
    }
  },
  "cells": [
    {
      "cell_type": "markdown",
      "metadata": {
        "id": "view-in-github",
        "colab_type": "text"
      },
      "source": [
        "<a href=\"https://colab.research.google.com/github/ChetanKnowIt/pyspark-colab/blob/main/spark_3_RDD_Persistence.ipynb\" target=\"_parent\"><img src=\"https://colab.research.google.com/assets/colab-badge.svg\" alt=\"Open In Colab\"/></a>"
      ]
    },
    {
      "cell_type": "code",
      "source": [
        "pip install pyspark"
      ],
      "metadata": {
        "colab": {
          "base_uri": "https://localhost:8080/"
        },
        "id": "rxNXWAVK2yxN",
        "outputId": "61b3503a-d2a3-4584-ba1f-ca341bd2e49c"
      },
      "execution_count": null,
      "outputs": [
        {
          "output_type": "stream",
          "name": "stdout",
          "text": [
            "Looking in indexes: https://pypi.org/simple, https://us-python.pkg.dev/colab-wheels/public/simple/\n",
            "Collecting pyspark\n",
            "  Downloading pyspark-3.3.1.tar.gz (281.4 MB)\n",
            "\u001b[2K     \u001b[90m━━━━━━━━━━━━━━━━━━━━━━━━━━━━━━━━━━━━━━━\u001b[0m \u001b[32m281.4/281.4 MB\u001b[0m \u001b[31m4.8 MB/s\u001b[0m eta \u001b[36m0:00:00\u001b[0m\n",
            "\u001b[?25h  Preparing metadata (setup.py) ... \u001b[?25l\u001b[?25hdone\n",
            "Collecting py4j==0.10.9.5\n",
            "  Downloading py4j-0.10.9.5-py2.py3-none-any.whl (199 kB)\n",
            "\u001b[2K     \u001b[90m━━━━━━━━━━━━━━━━━━━━━━━━━━━━━━━━━━━━━━\u001b[0m \u001b[32m199.7/199.7 KB\u001b[0m \u001b[31m21.0 MB/s\u001b[0m eta \u001b[36m0:00:00\u001b[0m\n",
            "\u001b[?25hBuilding wheels for collected packages: pyspark\n",
            "  Building wheel for pyspark (setup.py) ... \u001b[?25l\u001b[?25hdone\n",
            "  Created wheel for pyspark: filename=pyspark-3.3.1-py2.py3-none-any.whl size=281845512 sha256=4daa4d63bca92fbcd6c47a8138a03dfbd96306de4bed79ac6fdef127e2deb589\n",
            "  Stored in directory: /root/.cache/pip/wheels/43/dc/11/ec201cd671da62fa9c5cc77078235e40722170ceba231d7598\n",
            "Successfully built pyspark\n",
            "Installing collected packages: py4j, pyspark\n",
            "Successfully installed py4j-0.10.9.5 pyspark-3.3.1\n"
          ]
        }
      ]
    },
    {
      "cell_type": "code",
      "execution_count": null,
      "metadata": {
        "id": "Lt3VdGN12kkI"
      },
      "outputs": [],
      "source": [
        "from pyspark.sql import SparkSession"
      ]
    },
    {
      "cell_type": "code",
      "source": [
        "spark = SparkSession.builder.master(\"local[4]\")\\\n",
        ".appName(\"chetan\")\\\n",
        ".getOrCreate()"
      ],
      "metadata": {
        "id": "mgptTjjN2yOv"
      },
      "execution_count": null,
      "outputs": []
    },
    {
      "cell_type": "code",
      "source": [
        "sc = spark.sparkContext"
      ],
      "metadata": {
        "id": "8txzSVw-3DvY"
      },
      "execution_count": null,
      "outputs": []
    },
    {
      "cell_type": "code",
      "source": [
        "df = spark.read.option(\"header\",True).csv(\"student.csv\")"
      ],
      "metadata": {
        "id": "fo85F_bk3GNL"
      },
      "execution_count": null,
      "outputs": []
    },
    {
      "cell_type": "code",
      "source": [
        "df_cache = df.cache()# Default storage location is MEMORY_ONLY"
      ],
      "metadata": {
        "id": "uChCeQ2K3Lk4"
      },
      "execution_count": null,
      "outputs": []
    },
    {
      "cell_type": "code",
      "source": [
        "df_cache.show() "
      ],
      "metadata": {
        "colab": {
          "base_uri": "https://localhost:8080/"
        },
        "id": "cTVfEtR-3NOn",
        "outputId": "4f56a071-3995-44ca-8278-da999c97ee82"
      },
      "execution_count": null,
      "outputs": [
        {
          "output_type": "stream",
          "name": "stdout",
          "text": [
            "+----+-------+-----+-----+---+\n",
            "|roll|   name|class|marks|age|\n",
            "+----+-------+-----+-----+---+\n",
            "|   1|   anil|   TE|56.77| 22|\n",
            "|   2|   amit|   TE|59.77| 21|\n",
            "|   3| aniket|   BE|76.88| 19|\n",
            "|   4|ajinkya|   TE|69.66| 20|\n",
            "|   5|   asha|   TE|63.28| 20|\n",
            "|   6| ayesha|   BE|49.55| 20|\n",
            "|   7|   amar|   BE|65.34| 19|\n",
            "|   8|  amita|   BE|68.33| 23|\n",
            "|   9|   amol|   TE|56.75| 20|\n",
            "|  10|  anmol|   BE|78.66| 21|\n",
            "+----+-------+-----+-----+---+\n",
            "\n"
          ]
        }
      ]
    },
    {
      "cell_type": "code",
      "source": [
        "df_persist = df.persist() # Default storage location is MEMORY_AND_DISK"
      ],
      "metadata": {
        "id": "TPp32SII2rMV"
      },
      "execution_count": null,
      "outputs": []
    },
    {
      "cell_type": "code",
      "source": [
        "df_persist.show()"
      ],
      "metadata": {
        "colab": {
          "base_uri": "https://localhost:8080/"
        },
        "id": "0QlaODsl392a",
        "outputId": "712a4dd2-3f99-46dc-9100-3f600026df56"
      },
      "execution_count": null,
      "outputs": [
        {
          "output_type": "stream",
          "name": "stdout",
          "text": [
            "+----+-------+-----+-----+---+\n",
            "|roll|   name|class|marks|age|\n",
            "+----+-------+-----+-----+---+\n",
            "|   1|   anil|   TE|56.77| 22|\n",
            "|   2|   amit|   TE|59.77| 21|\n",
            "|   3| aniket|   BE|76.88| 19|\n",
            "|   4|ajinkya|   TE|69.66| 20|\n",
            "|   5|   asha|   TE|63.28| 20|\n",
            "|   6| ayesha|   BE|49.55| 20|\n",
            "|   7|   amar|   BE|65.34| 19|\n",
            "|   8|  amita|   BE|68.33| 23|\n",
            "|   9|   amol|   TE|56.75| 20|\n",
            "|  10|  anmol|   BE|78.66| 21|\n",
            "+----+-------+-----+-----+---+\n",
            "\n"
          ]
        }
      ]
    },
    {
      "cell_type": "code",
      "source": [
        "df_persist.unpersist()"
      ],
      "metadata": {
        "id": "KdIRK2h553xB",
        "outputId": "566e3b54-9258-44d6-ca20-17d5c1cd7f9e",
        "colab": {
          "base_uri": "https://localhost:8080/"
        }
      },
      "execution_count": null,
      "outputs": [
        {
          "output_type": "execute_result",
          "data": {
            "text/plain": [
              "DataFrame[roll: string, name: string, class: string, marks: string, age: string]"
            ]
          },
          "metadata": {},
          "execution_count": 13
        }
      ]
    },
    {
      "cell_type": "code",
      "source": [
        "df_persist.show()"
      ],
      "metadata": {
        "id": "fEYNPPBo56O7",
        "outputId": "63f4752a-1cdd-467b-d8e9-bdc9470c4c0e",
        "colab": {
          "base_uri": "https://localhost:8080/"
        }
      },
      "execution_count": null,
      "outputs": [
        {
          "output_type": "stream",
          "name": "stdout",
          "text": [
            "+----+-------+-----+-----+---+\n",
            "|roll|   name|class|marks|age|\n",
            "+----+-------+-----+-----+---+\n",
            "|   1|   anil|   TE|56.77| 22|\n",
            "|   2|   amit|   TE|59.77| 21|\n",
            "|   3| aniket|   BE|76.88| 19|\n",
            "|   4|ajinkya|   TE|69.66| 20|\n",
            "|   5|   asha|   TE|63.28| 20|\n",
            "|   6| ayesha|   BE|49.55| 20|\n",
            "|   7|   amar|   BE|65.34| 19|\n",
            "|   8|  amita|   BE|68.33| 23|\n",
            "|   9|   amol|   TE|56.75| 20|\n",
            "|  10|  anmol|   BE|78.66| 21|\n",
            "+----+-------+-----+-----+---+\n",
            "\n"
          ]
        }
      ]
    }
  ]
}