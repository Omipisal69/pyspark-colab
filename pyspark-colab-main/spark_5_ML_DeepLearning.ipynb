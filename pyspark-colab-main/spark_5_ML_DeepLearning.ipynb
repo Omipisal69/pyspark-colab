{
  "nbformat": 4,
  "nbformat_minor": 0,
  "metadata": {
    "colab": {
      "provenance": [],
      "authorship_tag": "ABX9TyMfbyxPUbX3rIq5a0sK2f9Z",
      "include_colab_link": true
    },
    "kernelspec": {
      "name": "python3",
      "display_name": "Python 3"
    },
    "language_info": {
      "name": "python"
    }
  },
  "cells": [
    {
      "cell_type": "markdown",
      "metadata": {
        "id": "view-in-github",
        "colab_type": "text"
      },
      "source": [
        "<a href=\"https://colab.research.google.com/github/ChetanKnowIt/pyspark-colab/blob/main/spark_5_ML_DeepLearning.ipynb\" target=\"_parent\"><img src=\"https://colab.research.google.com/assets/colab-badge.svg\" alt=\"Open In Colab\"/></a>"
      ]
    },
    {
      "cell_type": "code",
      "execution_count": null,
      "metadata": {
        "id": "9Y3K3UMiBHV_"
      },
      "outputs": [],
      "source": []
    },
    {
      "cell_type": "code",
      "source": [
        "!pip install pyspark"
      ],
      "metadata": {
        "colab": {
          "base_uri": "https://localhost:8080/"
        },
        "id": "1DjKR8FDTgru",
        "outputId": "3be30f21-bb3a-43e0-dbef-e2a4eb6c9992"
      },
      "execution_count": null,
      "outputs": [
        {
          "output_type": "stream",
          "name": "stdout",
          "text": [
            "Looking in indexes: https://pypi.org/simple, https://us-python.pkg.dev/colab-wheels/public/simple/\n",
            "Collecting pyspark\n",
            "  Downloading pyspark-3.3.1.tar.gz (281.4 MB)\n",
            "\u001b[2K     \u001b[90m━━━━━━━━━━━━━━━━━━━━━━━━━━━━━━━━━━━━━━━\u001b[0m \u001b[32m281.4/281.4 MB\u001b[0m \u001b[31m3.7 MB/s\u001b[0m eta \u001b[36m0:00:00\u001b[0m\n",
            "\u001b[?25h  Preparing metadata (setup.py) ... \u001b[?25l\u001b[?25hdone\n",
            "Collecting py4j==0.10.9.5\n",
            "  Downloading py4j-0.10.9.5-py2.py3-none-any.whl (199 kB)\n",
            "\u001b[2K     \u001b[90m━━━━━━━━━━━━━━━━━━━━━━━━━━━━━━━━━━━━━━━\u001b[0m \u001b[32m199.7/199.7 KB\u001b[0m \u001b[31m6.8 MB/s\u001b[0m eta \u001b[36m0:00:00\u001b[0m\n",
            "\u001b[?25hBuilding wheels for collected packages: pyspark\n",
            "  Building wheel for pyspark (setup.py) ... \u001b[?25l\u001b[?25hdone\n",
            "  Created wheel for pyspark: filename=pyspark-3.3.1-py2.py3-none-any.whl size=281845512 sha256=908ebfe16034d9e0f0ab2cf52f5dd2c6c2dc3cbdc2754140aaa024e8ca93a287\n",
            "  Stored in directory: /root/.cache/pip/wheels/43/dc/11/ec201cd671da62fa9c5cc77078235e40722170ceba231d7598\n",
            "Successfully built pyspark\n",
            "Installing collected packages: py4j, pyspark\n",
            "Successfully installed py4j-0.10.9.5 pyspark-3.3.1\n"
          ]
        }
      ]
    },
    {
      "cell_type": "code",
      "execution_count": null,
      "metadata": {
        "id": "Lt3VdGN12kkI"
      },
      "outputs": [],
      "source": [
        "from pyspark.sql import SparkSession\n",
        "from pyspark.ml.feature import VectorAssembler\n",
        "from pyspark.ml.classification import MultilayerPerceptronClassifier  \n",
        "from pyspark.ml.evaluation import MulticlassClassificationEvaluator"
      ]
    },
    {
      "cell_type": "code",
      "source": [
        "spark = SparkSession.builder.master(\"local\")\\\n",
        ".appName(\"dl\")\\\n",
        ".getOrCreate()"
      ],
      "metadata": {
        "id": "mgptTjjN2yOv"
      },
      "execution_count": null,
      "outputs": []
    },
    {
      "cell_type": "code",
      "source": [
        "sc = spark.sparkContext"
      ],
      "metadata": {
        "id": "8txzSVw-3DvY"
      },
      "execution_count": null,
      "outputs": []
    },
    {
      "cell_type": "code",
      "source": [
        "df = spark.read.options(header=True,inferSchema=True).csv(\"data_banknote_authentication.csv\")"
      ],
      "metadata": {
        "id": "fo85F_bk3GNL"
      },
      "execution_count": null,
      "outputs": []
    },
    {
      "cell_type": "code",
      "source": [
        "df.show(3)"
      ],
      "metadata": {
        "colab": {
          "base_uri": "https://localhost:8080/"
        },
        "id": "XHooDunZDen7",
        "outputId": "c999eaf2-26a0-4275-addb-300c86d73717"
      },
      "execution_count": null,
      "outputs": [
        {
          "output_type": "stream",
          "name": "stdout",
          "text": [
            "+---------+---------+---------+---------+------+\n",
            "|feature_1|feature_2|feature_3|feature_4|Class |\n",
            "+---------+---------+---------+---------+------+\n",
            "|   3.6216|   8.6661|  -2.8073| -0.44699|     0|\n",
            "|   4.5459|   8.1674|  -2.4586|  -1.4621|     0|\n",
            "|    3.866|  -2.6383|   1.9242|  0.10645|     0|\n",
            "+---------+---------+---------+---------+------+\n",
            "only showing top 3 rows\n",
            "\n"
          ]
        }
      ]
    },
    {
      "cell_type": "code",
      "source": [
        "df.printSchema()"
      ],
      "metadata": {
        "colab": {
          "base_uri": "https://localhost:8080/"
        },
        "id": "Zj6MgdgqDiX_",
        "outputId": "725e0223-6985-4d16-b2b0-7f4f2f154563"
      },
      "execution_count": null,
      "outputs": [
        {
          "output_type": "stream",
          "name": "stdout",
          "text": [
            "root\n",
            " |-- feature_1: string (nullable = true)\n",
            " |-- feature_2: string (nullable = true)\n",
            " |-- feature_3: string (nullable = true)\n",
            " |-- feature_4: double (nullable = true)\n",
            " |-- Class : integer (nullable = true)\n",
            "\n"
          ]
        }
      ]
    },
    {
      "cell_type": "code",
      "source": [
        "for col in df.columns:\n",
        "  df = df.withColumn(col,df[col].cast('double'))"
      ],
      "metadata": {
        "id": "cbiWgY1ZEZXt"
      },
      "execution_count": null,
      "outputs": []
    },
    {
      "cell_type": "code",
      "source": [
        "df.printSchema()"
      ],
      "metadata": {
        "colab": {
          "base_uri": "https://localhost:8080/"
        },
        "id": "j4FBKeRpEsy6",
        "outputId": "1ab07eaa-c057-4dc9-ce00-3df11e70fb73"
      },
      "execution_count": null,
      "outputs": [
        {
          "output_type": "stream",
          "name": "stdout",
          "text": [
            "root\n",
            " |-- feature_1: double (nullable = true)\n",
            " |-- feature_2: double (nullable = true)\n",
            " |-- feature_3: double (nullable = true)\n",
            " |-- feature_4: double (nullable = true)\n",
            " |-- Class : double (nullable = true)\n",
            "\n"
          ]
        }
      ]
    },
    {
      "cell_type": "code",
      "source": [
        "#input column\n",
        "input_cols = df.columns[:-1]"
      ],
      "metadata": {
        "id": "ZxI-sW1zFJsH"
      },
      "execution_count": null,
      "outputs": []
    },
    {
      "cell_type": "code",
      "source": [
        "df.select(input_cols)"
      ],
      "metadata": {
        "colab": {
          "base_uri": "https://localhost:8080/"
        },
        "id": "vyBvt-54E8Y7",
        "outputId": "4df838ed-173a-47d4-9d35-0227e2fbcebd"
      },
      "execution_count": null,
      "outputs": [
        {
          "output_type": "execute_result",
          "data": {
            "text/plain": [
              "DataFrame[feature_1: double, feature_2: double, feature_3: double, feature_4: double]"
            ]
          },
          "metadata": {},
          "execution_count": 24
        }
      ]
    },
    {
      "cell_type": "code",
      "source": [
        "df.select(input_cols).show(3)"
      ],
      "metadata": {
        "colab": {
          "base_uri": "https://localhost:8080/"
        },
        "id": "F0uh1DL9FZ-X",
        "outputId": "a6ed16ea-1f2b-4e0b-a37c-0b48c80d57ab"
      },
      "execution_count": null,
      "outputs": [
        {
          "output_type": "stream",
          "name": "stdout",
          "text": [
            "+---------+---------+---------+---------+\n",
            "|feature_1|feature_2|feature_3|feature_4|\n",
            "+---------+---------+---------+---------+\n",
            "|   3.6216|   8.6661|  -2.8073| -0.44699|\n",
            "|   4.5459|   8.1674|  -2.4586|  -1.4621|\n",
            "|    3.866|  -2.6383|   1.9242|  0.10645|\n",
            "+---------+---------+---------+---------+\n",
            "only showing top 3 rows\n",
            "\n"
          ]
        }
      ]
    },
    {
      "cell_type": "code",
      "source": [
        "from pyspark.ml.feature import Imputer, MinMaxScaler\n",
        "imputed_col = [ 'f_{}'.format(i+1) for i in range(4)]"
      ],
      "metadata": {
        "id": "OKu_W4m2FeI-"
      },
      "execution_count": null,
      "outputs": []
    },
    {
      "cell_type": "code",
      "source": [
        "imputed_col"
      ],
      "metadata": {
        "colab": {
          "base_uri": "https://localhost:8080/"
        },
        "id": "SoJwye2mF50S",
        "outputId": "048c53d9-2cc0-4883-8658-06faf7516bab"
      },
      "execution_count": null,
      "outputs": [
        {
          "output_type": "execute_result",
          "data": {
            "text/plain": [
              "['f_1', 'f_2', 'f_3', 'f_4']"
            ]
          },
          "metadata": {},
          "execution_count": 29
        }
      ]
    },
    {
      "cell_type": "code",
      "source": [
        "model = Imputer(strategy='mean',\n",
        "                missingValue=None,\n",
        "                inputCols=input_cols,\n",
        "                outputCols=imputed_col).fit(df) "
      ],
      "metadata": {
        "id": "rO27iLQWF7xI"
      },
      "execution_count": null,
      "outputs": []
    },
    {
      "cell_type": "code",
      "source": [
        "impute_data = model.transform(df)"
      ],
      "metadata": {
        "id": "OzA_ZKeUGqsN"
      },
      "execution_count": null,
      "outputs": []
    },
    {
      "cell_type": "code",
      "source": [
        "impute_data.show()"
      ],
      "metadata": {
        "colab": {
          "base_uri": "https://localhost:8080/"
        },
        "id": "ahzesXuuGs1_",
        "outputId": "280ffe8a-3232-4d8c-b993-0cbbaf6d8be3"
      },
      "execution_count": null,
      "outputs": [
        {
          "output_type": "stream",
          "name": "stdout",
          "text": [
            "+---------+---------+---------+---------+------+------------------+------------------+--------+--------+\n",
            "|feature_1|feature_2|feature_3|feature_4|Class |               f_1|               f_2|     f_3|     f_4|\n",
            "+---------+---------+---------+---------+------+------------------+------------------+--------+--------+\n",
            "|   3.6216|   8.6661|  -2.8073| -0.44699|   0.0|            3.6216|            8.6661| -2.8073|-0.44699|\n",
            "|   4.5459|   8.1674|  -2.4586|  -1.4621|   0.0|            4.5459|            8.1674| -2.4586| -1.4621|\n",
            "|    3.866|  -2.6383|   1.9242|  0.10645|   0.0|             3.866|           -2.6383|  1.9242| 0.10645|\n",
            "|   3.4566|   9.5228|  -4.0112|  -3.5944|   0.0|            3.4566|            9.5228| -4.0112| -3.5944|\n",
            "|  0.32924|  -4.4552|   4.5718|  -0.9888|   0.0|           0.32924|           -4.4552|  4.5718| -0.9888|\n",
            "|     null|   9.6718|  -3.9606|  -3.1625|   0.0|0.4308653338439095|            9.6718| -3.9606| -3.1625|\n",
            "|   3.5912|   3.0129|  0.72888|  0.56421|   0.0|            3.5912|            3.0129| 0.72888| 0.56421|\n",
            "|   2.0922|    -6.81|   8.4636| -0.60216|   0.0|            2.0922|             -6.81|  8.4636|-0.60216|\n",
            "|   3.2032|   5.7588| -0.75345| -0.61251|   0.0|            3.2032|            5.7588|-0.75345|-0.61251|\n",
            "|   1.5356|   9.1772|  -2.2718| -0.73535|   0.0|            1.5356|            9.1772| -2.2718|-0.73535|\n",
            "|   1.2247|   8.7779|  -2.2135| -0.80647|   0.0|            1.2247|            8.7779| -2.2135|-0.80647|\n",
            "|   3.9899|  -2.7066|   2.3946|  0.86291|   0.0|            3.9899|           -2.7066|  2.3946| 0.86291|\n",
            "|   1.8993|   7.6625|  0.15394|  -3.1108|   0.0|            1.8993|            7.6625| 0.15394| -3.1108|\n",
            "|  -1.5768|   10.843|   2.5462|  -2.9362|   0.0|           -1.5768|            10.843|  2.5462| -2.9362|\n",
            "|    3.404|   8.7261|  -2.9915| -0.57242|   0.0|             3.404|            8.7261| -2.9915|-0.57242|\n",
            "|   4.6765|  -3.3895|   3.4896|   1.4771|   0.0|            4.6765|           -3.3895|  3.4896|  1.4771|\n",
            "|   2.6719|   3.0646|  0.37158|  0.58619|   0.0|            2.6719|            3.0646| 0.37158| 0.58619|\n",
            "|  0.80355|   2.8473|   4.3439|   0.6017|   0.0|           0.80355|            2.8473|  4.3439|  0.6017|\n",
            "|   1.4479|     null|   8.3428|  -2.1086|   0.0|            1.4479|1.9273142826529555|  8.3428| -2.1086|\n",
            "|   5.2423|  11.0272|   -4.353|  -4.1013|   0.0|            5.2423|           11.0272|  -4.353| -4.1013|\n",
            "+---------+---------+---------+---------+------+------------------+------------------+--------+--------+\n",
            "only showing top 20 rows\n",
            "\n"
          ]
        }
      ]
    },
    {
      "cell_type": "code",
      "source": [
        "assemble = VectorAssembler(inputCols = imputed_col, outputCol = 'assembled_features')"
      ],
      "metadata": {
        "id": "6YEjIhAwHqtf"
      },
      "execution_count": null,
      "outputs": []
    },
    {
      "cell_type": "code",
      "source": [
        "a_data = assemble.transform(impute_data)"
      ],
      "metadata": {
        "id": "OEPdv56wHyto"
      },
      "execution_count": null,
      "outputs": []
    },
    {
      "cell_type": "code",
      "source": [
        "a_data.show(10)"
      ],
      "metadata": {
        "colab": {
          "base_uri": "https://localhost:8080/"
        },
        "id": "vCcXLwGJH554",
        "outputId": "75e59f63-9c30-4e2a-a508-6b974228e522"
      },
      "execution_count": null,
      "outputs": [
        {
          "output_type": "stream",
          "name": "stdout",
          "text": [
            "+---------+---------+---------+---------+------+------------------+-------+--------+--------+--------------------+\n",
            "|feature_1|feature_2|feature_3|feature_4|Class |               f_1|    f_2|     f_3|     f_4|  assembled_features|\n",
            "+---------+---------+---------+---------+------+------------------+-------+--------+--------+--------------------+\n",
            "|   3.6216|   8.6661|  -2.8073| -0.44699|   0.0|            3.6216| 8.6661| -2.8073|-0.44699|[3.6216,8.6661,-2...|\n",
            "|   4.5459|   8.1674|  -2.4586|  -1.4621|   0.0|            4.5459| 8.1674| -2.4586| -1.4621|[4.5459,8.1674,-2...|\n",
            "|    3.866|  -2.6383|   1.9242|  0.10645|   0.0|             3.866|-2.6383|  1.9242| 0.10645|[3.866,-2.6383,1....|\n",
            "|   3.4566|   9.5228|  -4.0112|  -3.5944|   0.0|            3.4566| 9.5228| -4.0112| -3.5944|[3.4566,9.5228,-4...|\n",
            "|  0.32924|  -4.4552|   4.5718|  -0.9888|   0.0|           0.32924|-4.4552|  4.5718| -0.9888|[0.32924,-4.4552,...|\n",
            "|     null|   9.6718|  -3.9606|  -3.1625|   0.0|0.4308653338439095| 9.6718| -3.9606| -3.1625|[0.43086533384390...|\n",
            "|   3.5912|   3.0129|  0.72888|  0.56421|   0.0|            3.5912| 3.0129| 0.72888| 0.56421|[3.5912,3.0129,0....|\n",
            "|   2.0922|    -6.81|   8.4636| -0.60216|   0.0|            2.0922|  -6.81|  8.4636|-0.60216|[2.0922,-6.81,8.4...|\n",
            "|   3.2032|   5.7588| -0.75345| -0.61251|   0.0|            3.2032| 5.7588|-0.75345|-0.61251|[3.2032,5.7588,-0...|\n",
            "|   1.5356|   9.1772|  -2.2718| -0.73535|   0.0|            1.5356| 9.1772| -2.2718|-0.73535|[1.5356,9.1772,-2...|\n",
            "+---------+---------+---------+---------+------+------------------+-------+--------+--------+--------------------+\n",
            "only showing top 10 rows\n",
            "\n"
          ]
        }
      ]
    },
    {
      "cell_type": "code",
      "source": [
        "scaler = MinMaxScaler(min=0.0, max=1.0,\n",
        "                      inputCol='assembled_features',\n",
        "                      outputCol='features')"
      ],
      "metadata": {
        "id": "XhtPV50iIU2A"
      },
      "execution_count": null,
      "outputs": []
    },
    {
      "cell_type": "code",
      "source": [
        "s_data = scaler.fit(a_data).transform(a_data)"
      ],
      "metadata": {
        "id": "zBRNdy_YIkF0"
      },
      "execution_count": null,
      "outputs": []
    },
    {
      "cell_type": "code",
      "source": [
        "s_data.show(10)"
      ],
      "metadata": {
        "colab": {
          "base_uri": "https://localhost:8080/"
        },
        "id": "8C7twDqoIo1B",
        "outputId": "c71ddad1-70f5-44b8-adbc-915bb2ede7ee"
      },
      "execution_count": null,
      "outputs": [
        {
          "output_type": "stream",
          "name": "stdout",
          "text": [
            "+---------+---------+---------+---------+------+------------------+-------+--------+--------+--------------------+--------------------+\n",
            "|feature_1|feature_2|feature_3|feature_4|Class |               f_1|    f_2|     f_3|     f_4|  assembled_features|            features|\n",
            "+---------+---------+---------+---------+------+------------------+-------+--------+--------+--------------------+--------------------+\n",
            "|   3.6216|   8.6661|  -2.8073| -0.44699|   0.0|            3.6216| 8.6661| -2.8073|-0.44699|[3.6216,8.6661,-2...|[0.76900388695382...|\n",
            "|   4.5459|   8.1674|  -2.4586|  -1.4621|   0.0|            4.5459| 8.1674| -2.4586| -1.4621|[4.5459,8.1674,-2...|[0.83565901535310...|\n",
            "|    3.866|  -2.6383|   1.9242|  0.10645|   0.0|             3.866|-2.6383|  1.9242| 0.10645|[3.866,-2.6383,1....|[0.78662859038429...|\n",
            "|   3.4566|   9.5228|  -4.0112|  -3.5944|   0.0|            3.4566| 9.5228| -4.0112| -3.5944|[3.4566,9.5228,-4...|[0.75710504871312...|\n",
            "|  0.32924|  -4.4552|   4.5718|  -0.9888|   0.0|           0.32924|-4.4552|  4.5718| -0.9888|[0.32924,-4.4552,...|[0.53157807440740...|\n",
            "|     null|   9.6718|  -3.9606|  -3.1625|   0.0|0.4308653338439095| 9.6718| -3.9606| -3.1625|[0.43086533384390...|[0.53890670112598...|\n",
            "|   3.5912|   3.0129|  0.72888|  0.56421|   0.0|            3.5912| 3.0129| 0.72888| 0.56421|[3.5912,3.0129,0....|[0.76681161615068...|\n",
            "|   2.0922|    -6.81|   8.4636| -0.60216|   0.0|            2.0922|  -6.81|  8.4636|-0.60216|[2.0922,-6.81,8.4...|[0.65871247358818...|\n",
            "|   3.2032|   5.7588| -0.75345| -0.61251|   0.0|            3.2032| 5.7588|-0.75345|-0.61251|[3.2032,5.7588,-0...|[0.73883131774224...|\n",
            "|   1.5356|   9.1772|  -2.2718| -0.73535|   0.0|            1.5356| 9.1772| -2.2718|-0.73535|[1.5356,9.1772,-2...|[0.61857372592288...|\n",
            "+---------+---------+---------+---------+------+------------------+-------+--------+--------+--------------------+--------------------+\n",
            "only showing top 10 rows\n",
            "\n"
          ]
        }
      ]
    },
    {
      "cell_type": "code",
      "source": [
        "s_data = s_data.withColumnRenamed('Class ', 'label')"
      ],
      "metadata": {
        "id": "ImuAlq4XIhdx"
      },
      "execution_count": null,
      "outputs": []
    },
    {
      "cell_type": "code",
      "source": [
        "s_data"
      ],
      "metadata": {
        "colab": {
          "base_uri": "https://localhost:8080/"
        },
        "id": "fNiiSjzQJvGG",
        "outputId": "809284a7-555b-4fdb-adc3-46cce89211e8"
      },
      "execution_count": null,
      "outputs": [
        {
          "output_type": "execute_result",
          "data": {
            "text/plain": [
              "DataFrame[feature_1: double, feature_2: double, feature_3: double, feature_4: double, label: double, f_1: double, f_2: double, f_3: double, f_4: double, assembled_features: vector, features: vector]"
            ]
          },
          "metadata": {},
          "execution_count": 59
        }
      ]
    },
    {
      "cell_type": "code",
      "source": [
        "train_df, test_df = s_data.select('label','features').randomSplit([0.75,0.25], seed = 0)"
      ],
      "metadata": {
        "id": "0afysfCwKr4b"
      },
      "execution_count": null,
      "outputs": []
    },
    {
      "cell_type": "code",
      "source": [
        "train_df.count(),test_df.count()"
      ],
      "metadata": {
        "colab": {
          "base_uri": "https://localhost:8080/"
        },
        "id": "g_gGvD23LGic",
        "outputId": "56dc36f7-7d80-44fb-9258-3f4467fa3b41"
      },
      "execution_count": null,
      "outputs": [
        {
          "output_type": "execute_result",
          "data": {
            "text/plain": [
              "(1013, 359)"
            ]
          },
          "metadata": {},
          "execution_count": 67
        }
      ]
    },
    {
      "cell_type": "code",
      "source": [
        "s_data.count() * 0.75, s_data.count() * 0.25"
      ],
      "metadata": {
        "colab": {
          "base_uri": "https://localhost:8080/"
        },
        "id": "fMqXKP1PLQkt",
        "outputId": "b80f9f37-5972-40bc-a9c5-c0ab127d22d4"
      },
      "execution_count": null,
      "outputs": [
        {
          "output_type": "execute_result",
          "data": {
            "text/plain": [
              "(1029.0, 343.0)"
            ]
          },
          "metadata": {},
          "execution_count": 69
        }
      ]
    },
    {
      "cell_type": "code",
      "source": [
        "mlpc = MultilayerPerceptronClassifier(featuresCol = 'features',\n",
        "                                      labelCol = 'label',\n",
        "                                      layers = [4,32,2],\n",
        "                                      maxIter = 500,\n",
        "                                      blockSize = 8, \n",
        "                                      seed = 0,\n",
        "                                      solver = 'gd')"
      ],
      "metadata": {
        "id": "ydGetZPPbekI"
      },
      "execution_count": null,
      "outputs": []
    },
    {
      "cell_type": "code",
      "source": [
        "ann = mlpc.fit(train_df)"
      ],
      "metadata": {
        "id": "CufDvVEGb5L5"
      },
      "execution_count": null,
      "outputs": []
    },
    {
      "cell_type": "code",
      "source": [
        "pred = ann.transform(test_df)"
      ],
      "metadata": {
        "id": "-W7E1DQQb_la"
      },
      "execution_count": null,
      "outputs": []
    },
    {
      "cell_type": "code",
      "source": [
        "from pyspark.ml.evaluation import MulticlassClassificationEvaluator"
      ],
      "metadata": {
        "id": "-AcepJ90xvaj"
      },
      "execution_count": null,
      "outputs": []
    },
    {
      "cell_type": "code",
      "source": [
        "eval = MulticlassClassificationEvaluator(labelCol='label', metricName='accuracy')"
      ],
      "metadata": {
        "id": "fMsdzOI1x6b0"
      },
      "execution_count": null,
      "outputs": []
    },
    {
      "cell_type": "code",
      "source": [
        "print('Accuracy: ', eval.evaluate(pred)*100)"
      ],
      "metadata": {
        "colab": {
          "base_uri": "https://localhost:8080/"
        },
        "id": "afqS7OaUx_3Q",
        "outputId": "56796e0c-4357-40b6-f065-2de5b64968bc"
      },
      "execution_count": null,
      "outputs": [
        {
          "output_type": "stream",
          "name": "stdout",
          "text": [
            "Accuracy:  83.56545961002786\n"
          ]
        }
      ]
    }
  ]
}