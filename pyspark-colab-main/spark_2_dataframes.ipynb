{
  "nbformat": 4,
  "nbformat_minor": 0,
  "metadata": {
    "colab": {
      "provenance": [],
      "authorship_tag": "ABX9TyM8w9CAVECYLV1voRchvQGr",
      "include_colab_link": true
    },
    "kernelspec": {
      "name": "python3",
      "display_name": "Python 3"
    },
    "language_info": {
      "name": "python"
    }
  },
  "cells": [
    {
      "cell_type": "markdown",
      "metadata": {
        "id": "view-in-github",
        "colab_type": "text"
      },
      "source": [
        "<a href=\"https://colab.research.google.com/github/ChetanKnowIt/pyspark-colab/blob/main/spark_2_dataframes.ipynb\" target=\"_parent\"><img src=\"https://colab.research.google.com/assets/colab-badge.svg\" alt=\"Open In Colab\"/></a>"
      ]
    },
    {
      "cell_type": "markdown",
      "source": [
        "# Dataframes and Datasets"
      ],
      "metadata": {
        "id": "LPIocReRZOfc"
      }
    },
    {
      "cell_type": "code",
      "source": [
        "pip install pyspark"
      ],
      "metadata": {
        "colab": {
          "base_uri": "https://localhost:8080/"
        },
        "id": "Apz5I2cpZQWk",
        "outputId": "05d8c1e8-316b-4087-d142-d28eee72047a"
      },
      "execution_count": null,
      "outputs": [
        {
          "output_type": "stream",
          "name": "stdout",
          "text": [
            "Looking in indexes: https://pypi.org/simple, https://us-python.pkg.dev/colab-wheels/public/simple/\n",
            "Collecting pyspark\n",
            "  Downloading pyspark-3.3.1.tar.gz (281.4 MB)\n",
            "\u001b[2K     \u001b[90m━━━━━━━━━━━━━━━━━━━━━━━━━━━━━━━━━━━━━━━\u001b[0m \u001b[32m281.4/281.4 MB\u001b[0m \u001b[31m4.9 MB/s\u001b[0m eta \u001b[36m0:00:00\u001b[0m\n",
            "\u001b[?25h  Preparing metadata (setup.py) ... \u001b[?25l\u001b[?25hdone\n",
            "Collecting py4j==0.10.9.5\n",
            "  Downloading py4j-0.10.9.5-py2.py3-none-any.whl (199 kB)\n",
            "\u001b[2K     \u001b[90m━━━━━━━━━━━━━━━━━━━━━━━━━━━━━━━━━━━━━━\u001b[0m \u001b[32m199.7/199.7 KB\u001b[0m \u001b[31m23.3 MB/s\u001b[0m eta \u001b[36m0:00:00\u001b[0m\n",
            "\u001b[?25hBuilding wheels for collected packages: pyspark\n",
            "  Building wheel for pyspark (setup.py) ... \u001b[?25l\u001b[?25hdone\n",
            "  Created wheel for pyspark: filename=pyspark-3.3.1-py2.py3-none-any.whl size=281845512 sha256=783a9b8e4a1e06d7ff43252f30800c9f4a8a7784e236eea8ef6c133a7250f896\n",
            "  Stored in directory: /root/.cache/pip/wheels/43/dc/11/ec201cd671da62fa9c5cc77078235e40722170ceba231d7598\n",
            "Successfully built pyspark\n",
            "Installing collected packages: py4j, pyspark\n",
            "Successfully installed py4j-0.10.9.5 pyspark-3.3.1\n"
          ]
        }
      ]
    },
    {
      "cell_type": "code",
      "source": [
        "import pyspark\n",
        "from pyspark.sql import SparkSession"
      ],
      "metadata": {
        "id": "ObKGBPXIHxvM"
      },
      "execution_count": null,
      "outputs": []
    },
    {
      "cell_type": "code",
      "source": [
        "\n",
        "spark = SparkSession.builder.master(\"local[4]\")\\\n",
        "\t\t\t\t\t\t\t\t\t\t.appName('chetan')\\\n",
        "\t\t\t\t\t\t\t\t\t\t.getOrCreate()"
      ],
      "metadata": {
        "id": "fU57ElIiIXzP"
      },
      "execution_count": null,
      "outputs": []
    },
    {
      "cell_type": "code",
      "source": [
        "sc = spark.sparkContext"
      ],
      "metadata": {
        "id": "sG_smdHmIqDf"
      },
      "execution_count": null,
      "outputs": []
    },
    {
      "cell_type": "markdown",
      "source": [
        "### Read from CSV"
      ],
      "metadata": {
        "id": "WHIz8bxbb7wC"
      }
    },
    {
      "cell_type": "code",
      "source": [
        "df = spark.read.csv('student.csv')\n",
        "df"
      ],
      "metadata": {
        "colab": {
          "base_uri": "https://localhost:8080/"
        },
        "id": "QGr7g4SPZxGJ",
        "outputId": "ce50aa72-4bba-4ef0-dca9-6fbcfd1b8720"
      },
      "execution_count": null,
      "outputs": [
        {
          "output_type": "execute_result",
          "data": {
            "text/plain": [
              "DataFrame[_c0: string, _c1: string, _c2: string, _c3: string, _c4: string]"
            ]
          },
          "metadata": {},
          "execution_count": 9
        }
      ]
    },
    {
      "cell_type": "code",
      "source": [
        "import os\n",
        "os.getcwd()"
      ],
      "metadata": {
        "colab": {
          "base_uri": "https://localhost:8080/",
          "height": 35
        },
        "id": "dPds5ZLAbv5Y",
        "outputId": "e3570a78-65a2-4b4c-d35f-30d35bfee0b1"
      },
      "execution_count": null,
      "outputs": [
        {
          "output_type": "execute_result",
          "data": {
            "text/plain": [
              "'/content'"
            ],
            "application/vnd.google.colaboratory.intrinsic+json": {
              "type": "string"
            }
          },
          "metadata": {},
          "execution_count": 8
        }
      ]
    },
    {
      "cell_type": "code",
      "source": [
        "df.printSchema()"
      ],
      "metadata": {
        "colab": {
          "base_uri": "https://localhost:8080/"
        },
        "id": "IpIy3JgVcGZv",
        "outputId": "0fb6c7aa-71de-4987-e80a-2cf0d598d9a7"
      },
      "execution_count": null,
      "outputs": [
        {
          "output_type": "stream",
          "name": "stdout",
          "text": [
            "root\n",
            " |-- _c0: string (nullable = true)\n",
            " |-- _c1: string (nullable = true)\n",
            " |-- _c2: string (nullable = true)\n",
            " |-- _c3: string (nullable = true)\n",
            " |-- _c4: string (nullable = true)\n",
            "\n"
          ]
        }
      ]
    },
    {
      "cell_type": "code",
      "source": [
        "df.head(5)"
      ],
      "metadata": {
        "colab": {
          "base_uri": "https://localhost:8080/"
        },
        "id": "p47I6QEhcIYq",
        "outputId": "ae60936b-96d0-4af7-e68a-7937f163e3b4"
      },
      "execution_count": null,
      "outputs": [
        {
          "output_type": "execute_result",
          "data": {
            "text/plain": [
              "[Row(_c0='roll', _c1='name', _c2='class', _c3='marks', _c4='age'),\n",
              " Row(_c0='1', _c1='anil', _c2='TE', _c3='56.77', _c4='22'),\n",
              " Row(_c0='2', _c1='amit', _c2='TE', _c3='59.77', _c4='21'),\n",
              " Row(_c0='3', _c1='aniket', _c2='BE', _c3='76.88', _c4='19'),\n",
              " Row(_c0='4', _c1='ajinkya', _c2='TE', _c3='69.66', _c4='20')]"
            ]
          },
          "metadata": {},
          "execution_count": 12
        }
      ]
    },
    {
      "cell_type": "code",
      "source": [
        "df2 = spark.read.option('header', True).csv('student.csv')\n",
        "df2"
      ],
      "metadata": {
        "colab": {
          "base_uri": "https://localhost:8080/"
        },
        "id": "oWOncFMrcbBK",
        "outputId": "f61c83bc-4e00-421e-81eb-ebdc5377a4f1"
      },
      "execution_count": null,
      "outputs": [
        {
          "output_type": "execute_result",
          "data": {
            "text/plain": [
              "DataFrame[roll: string, name: string, class: string, marks: string, age: string]"
            ]
          },
          "metadata": {},
          "execution_count": 13
        }
      ]
    },
    {
      "cell_type": "code",
      "source": [
        "df2.printSchema()"
      ],
      "metadata": {
        "colab": {
          "base_uri": "https://localhost:8080/"
        },
        "id": "GceLb7iudCwg",
        "outputId": "fbda0f55-19b9-47a8-fb78-e921b028543a"
      },
      "execution_count": null,
      "outputs": [
        {
          "output_type": "stream",
          "name": "stdout",
          "text": [
            "root\n",
            " |-- roll: string (nullable = true)\n",
            " |-- name: string (nullable = true)\n",
            " |-- class: string (nullable = true)\n",
            " |-- marks: string (nullable = true)\n",
            " |-- age: string (nullable = true)\n",
            "\n"
          ]
        }
      ]
    },
    {
      "cell_type": "code",
      "source": [
        "df2.head(5)"
      ],
      "metadata": {
        "colab": {
          "base_uri": "https://localhost:8080/"
        },
        "id": "XZHMOfwSdI3z",
        "outputId": "39d20fba-1f79-4a64-cfed-9e145e8a9085"
      },
      "execution_count": null,
      "outputs": [
        {
          "output_type": "execute_result",
          "data": {
            "text/plain": [
              "[Row(roll='1', name='anil', class='TE', marks='56.77', age='22'),\n",
              " Row(roll='2', name='amit', class='TE', marks='59.77', age='21'),\n",
              " Row(roll='3', name='aniket', class='BE', marks='76.88', age='19'),\n",
              " Row(roll='4', name='ajinkya', class='TE', marks='69.66', age='20'),\n",
              " Row(roll='5', name='asha', class='TE', marks='63.28', age='20')]"
            ]
          },
          "metadata": {},
          "execution_count": 16
        }
      ]
    },
    {
      "cell_type": "code",
      "source": [
        "df3 = spark.read.option('header',True).csv(\"student.csv,student5.csv\")\n",
        "df3"
      ],
      "metadata": {
        "colab": {
          "base_uri": "https://localhost:8080/",
          "height": 330
        },
        "id": "b3YQnPpRdoO5",
        "outputId": "81126c84-39c1-4840-95d3-cdedd2b30329"
      },
      "execution_count": null,
      "outputs": [
        {
          "output_type": "error",
          "ename": "AnalysisException",
          "evalue": "ignored",
          "traceback": [
            "\u001b[0;31m---------------------------------------------------------------------------\u001b[0m",
            "\u001b[0;31mAnalysisException\u001b[0m                         Traceback (most recent call last)",
            "\u001b[0;32m<ipython-input-19-a9ef67d07b9e>\u001b[0m in \u001b[0;36m<module>\u001b[0;34m\u001b[0m\n\u001b[0;32m----> 1\u001b[0;31m \u001b[0mdf3\u001b[0m \u001b[0;34m=\u001b[0m \u001b[0mspark\u001b[0m\u001b[0;34m.\u001b[0m\u001b[0mread\u001b[0m\u001b[0;34m.\u001b[0m\u001b[0moption\u001b[0m\u001b[0;34m(\u001b[0m\u001b[0;34m'header'\u001b[0m\u001b[0;34m,\u001b[0m\u001b[0;32mTrue\u001b[0m\u001b[0;34m)\u001b[0m\u001b[0;34m.\u001b[0m\u001b[0mcsv\u001b[0m\u001b[0;34m(\u001b[0m\u001b[0;34m\"student.csv,student5.csv\"\u001b[0m\u001b[0;34m)\u001b[0m\u001b[0;34m\u001b[0m\u001b[0;34m\u001b[0m\u001b[0m\n\u001b[0m\u001b[1;32m      2\u001b[0m \u001b[0mdf3\u001b[0m\u001b[0;34m\u001b[0m\u001b[0;34m\u001b[0m\u001b[0m\n",
            "\u001b[0;32m/usr/local/lib/python3.8/dist-packages/pyspark/sql/readwriter.py\u001b[0m in \u001b[0;36mcsv\u001b[0;34m(self, path, schema, sep, encoding, quote, escape, comment, header, inferSchema, ignoreLeadingWhiteSpace, ignoreTrailingWhiteSpace, nullValue, nanValue, positiveInf, negativeInf, dateFormat, timestampFormat, maxColumns, maxCharsPerColumn, maxMalformedLogPerPartition, mode, columnNameOfCorruptRecord, multiLine, charToEscapeQuoteEscaping, samplingRatio, enforceSchema, emptyValue, locale, lineSep, pathGlobFilter, recursiveFileLookup, modifiedBefore, modifiedAfter, unescapedQuoteHandling)\u001b[0m\n\u001b[1;32m    533\u001b[0m         \u001b[0;32mif\u001b[0m \u001b[0mtype\u001b[0m\u001b[0;34m(\u001b[0m\u001b[0mpath\u001b[0m\u001b[0;34m)\u001b[0m \u001b[0;34m==\u001b[0m \u001b[0mlist\u001b[0m\u001b[0;34m:\u001b[0m\u001b[0;34m\u001b[0m\u001b[0;34m\u001b[0m\u001b[0m\n\u001b[1;32m    534\u001b[0m             \u001b[0;32massert\u001b[0m \u001b[0mself\u001b[0m\u001b[0;34m.\u001b[0m\u001b[0m_spark\u001b[0m\u001b[0;34m.\u001b[0m\u001b[0m_sc\u001b[0m\u001b[0;34m.\u001b[0m\u001b[0m_jvm\u001b[0m \u001b[0;32mis\u001b[0m \u001b[0;32mnot\u001b[0m \u001b[0;32mNone\u001b[0m\u001b[0;34m\u001b[0m\u001b[0;34m\u001b[0m\u001b[0m\n\u001b[0;32m--> 535\u001b[0;31m             \u001b[0;32mreturn\u001b[0m \u001b[0mself\u001b[0m\u001b[0;34m.\u001b[0m\u001b[0m_df\u001b[0m\u001b[0;34m(\u001b[0m\u001b[0mself\u001b[0m\u001b[0;34m.\u001b[0m\u001b[0m_jreader\u001b[0m\u001b[0;34m.\u001b[0m\u001b[0mcsv\u001b[0m\u001b[0;34m(\u001b[0m\u001b[0mself\u001b[0m\u001b[0;34m.\u001b[0m\u001b[0m_spark\u001b[0m\u001b[0;34m.\u001b[0m\u001b[0m_sc\u001b[0m\u001b[0;34m.\u001b[0m\u001b[0m_jvm\u001b[0m\u001b[0;34m.\u001b[0m\u001b[0mPythonUtils\u001b[0m\u001b[0;34m.\u001b[0m\u001b[0mtoSeq\u001b[0m\u001b[0;34m(\u001b[0m\u001b[0mpath\u001b[0m\u001b[0;34m)\u001b[0m\u001b[0;34m)\u001b[0m\u001b[0;34m)\u001b[0m\u001b[0;34m\u001b[0m\u001b[0;34m\u001b[0m\u001b[0m\n\u001b[0m\u001b[1;32m    536\u001b[0m         \u001b[0;32melif\u001b[0m \u001b[0misinstance\u001b[0m\u001b[0;34m(\u001b[0m\u001b[0mpath\u001b[0m\u001b[0;34m,\u001b[0m \u001b[0mRDD\u001b[0m\u001b[0;34m)\u001b[0m\u001b[0;34m:\u001b[0m\u001b[0;34m\u001b[0m\u001b[0;34m\u001b[0m\u001b[0m\n\u001b[1;32m    537\u001b[0m \u001b[0;34m\u001b[0m\u001b[0m\n",
            "\u001b[0;32m/usr/local/lib/python3.8/dist-packages/py4j/java_gateway.py\u001b[0m in \u001b[0;36m__call__\u001b[0;34m(self, *args)\u001b[0m\n\u001b[1;32m   1319\u001b[0m \u001b[0;34m\u001b[0m\u001b[0m\n\u001b[1;32m   1320\u001b[0m         \u001b[0manswer\u001b[0m \u001b[0;34m=\u001b[0m \u001b[0mself\u001b[0m\u001b[0;34m.\u001b[0m\u001b[0mgateway_client\u001b[0m\u001b[0;34m.\u001b[0m\u001b[0msend_command\u001b[0m\u001b[0;34m(\u001b[0m\u001b[0mcommand\u001b[0m\u001b[0;34m)\u001b[0m\u001b[0;34m\u001b[0m\u001b[0;34m\u001b[0m\u001b[0m\n\u001b[0;32m-> 1321\u001b[0;31m         return_value = get_return_value(\n\u001b[0m\u001b[1;32m   1322\u001b[0m             answer, self.gateway_client, self.target_id, self.name)\n\u001b[1;32m   1323\u001b[0m \u001b[0;34m\u001b[0m\u001b[0m\n",
            "\u001b[0;32m/usr/local/lib/python3.8/dist-packages/pyspark/sql/utils.py\u001b[0m in \u001b[0;36mdeco\u001b[0;34m(*a, **kw)\u001b[0m\n\u001b[1;32m    194\u001b[0m                 \u001b[0;31m# Hide where the exception came from that shows a non-Pythonic\u001b[0m\u001b[0;34m\u001b[0m\u001b[0;34m\u001b[0m\u001b[0;34m\u001b[0m\u001b[0m\n\u001b[1;32m    195\u001b[0m                 \u001b[0;31m# JVM exception message.\u001b[0m\u001b[0;34m\u001b[0m\u001b[0;34m\u001b[0m\u001b[0;34m\u001b[0m\u001b[0m\n\u001b[0;32m--> 196\u001b[0;31m                 \u001b[0;32mraise\u001b[0m \u001b[0mconverted\u001b[0m \u001b[0;32mfrom\u001b[0m \u001b[0;32mNone\u001b[0m\u001b[0;34m\u001b[0m\u001b[0;34m\u001b[0m\u001b[0m\n\u001b[0m\u001b[1;32m    197\u001b[0m             \u001b[0;32melse\u001b[0m\u001b[0;34m:\u001b[0m\u001b[0;34m\u001b[0m\u001b[0;34m\u001b[0m\u001b[0m\n\u001b[1;32m    198\u001b[0m                 \u001b[0;32mraise\u001b[0m\u001b[0;34m\u001b[0m\u001b[0;34m\u001b[0m\u001b[0m\n",
            "\u001b[0;31mAnalysisException\u001b[0m: Path does not exist: file:/content/student.csv,student5.csv"
          ]
        }
      ]
    },
    {
      "cell_type": "code",
      "source": [
        "df4 = spark.read.csv(\"student3.tsv\")\n",
        "df4.head(5)"
      ],
      "metadata": {
        "colab": {
          "base_uri": "https://localhost:8080/"
        },
        "id": "0joK1tQieHkA",
        "outputId": "f24718fd-89c1-4126-c14a-22df5980ac0f"
      },
      "execution_count": null,
      "outputs": [
        {
          "output_type": "execute_result",
          "data": {
            "text/plain": [
              "[Row(_c0='roll\\tname\\tclass\\tmarks\\tage'),\n",
              " Row(_c0='1\\tanil\\tTE\\t56.77\\t22'),\n",
              " Row(_c0='2\\tamit\\tTE\\t59.77\\t21'),\n",
              " Row(_c0='3\\taniket\\tBE\\t76.88\\t19'),\n",
              " Row(_c0='4\\tajinkya\\tTE\\t69.66\\t20')]"
            ]
          },
          "metadata": {},
          "execution_count": 22
        }
      ]
    },
    {
      "cell_type": "code",
      "source": [
        "df4 = spark.read.option('delimiter','\\t').csv(\"student3.tsv\")\n",
        "df4.head(5)"
      ],
      "metadata": {
        "colab": {
          "base_uri": "https://localhost:8080/"
        },
        "id": "7fHpXG9ieA6d",
        "outputId": "30c86dff-36c4-4909-fb6a-8dfc0c5f6469"
      },
      "execution_count": null,
      "outputs": [
        {
          "output_type": "execute_result",
          "data": {
            "text/plain": [
              "[Row(_c0='roll', _c1='name', _c2='class', _c3='marks', _c4='age'),\n",
              " Row(_c0='1', _c1='anil', _c2='TE', _c3='56.77', _c4='22'),\n",
              " Row(_c0='2', _c1='amit', _c2='TE', _c3='59.77', _c4='21'),\n",
              " Row(_c0='3', _c1='aniket', _c2='BE', _c3='76.88', _c4='19'),\n",
              " Row(_c0='4', _c1='ajinkya', _c2='TE', _c3='69.66', _c4='20')]"
            ]
          },
          "metadata": {},
          "execution_count": 23
        }
      ]
    },
    {
      "cell_type": "code",
      "source": [
        "df4 = spark.read.option('delimiter','\\t').option('header',True).csv(\"student3.tsv\")\n",
        "df4.head(5)"
      ],
      "metadata": {
        "colab": {
          "base_uri": "https://localhost:8080/"
        },
        "id": "a9-hJN8Jd6DN",
        "outputId": "a11547fc-cbaa-4eb2-c74c-5b6fcfe04d34"
      },
      "execution_count": null,
      "outputs": [
        {
          "output_type": "execute_result",
          "data": {
            "text/plain": [
              "[Row(roll='1', name='anil', class='TE', marks='56.77', age='22'),\n",
              " Row(roll='2', name='amit', class='TE', marks='59.77', age='21'),\n",
              " Row(roll='3', name='aniket', class='BE', marks='76.88', age='19'),\n",
              " Row(roll='4', name='ajinkya', class='TE', marks='69.66', age='20'),\n",
              " Row(roll='5', name='asha', class='TE', marks='63.28', age='20')]"
            ]
          },
          "metadata": {},
          "execution_count": 24
        }
      ]
    },
    {
      "cell_type": "code",
      "source": [
        "df4.tail(5)"
      ],
      "metadata": {
        "colab": {
          "base_uri": "https://localhost:8080/"
        },
        "id": "KNG-bmIyfH43",
        "outputId": "fa4451e0-e1a1-4e7d-ae02-e20c498bdbdd"
      },
      "execution_count": null,
      "outputs": [
        {
          "output_type": "execute_result",
          "data": {
            "text/plain": [
              "[Row(roll='6', name='ayesha', class='BE', marks='49.55', age='20'),\n",
              " Row(roll='7', name='amar', class='BE', marks='65.34', age='19'),\n",
              " Row(roll='8', name='amita', class='BE', marks='68.33', age='23'),\n",
              " Row(roll='9', name='amol', class='TE', marks='56.75', age='20'),\n",
              " Row(roll='10', name='anmol', class='BE', marks='78.66', age='21')]"
            ]
          },
          "metadata": {},
          "execution_count": 25
        }
      ]
    },
    {
      "cell_type": "code",
      "source": [
        "df4 = spark.read.options(delimiter='\\t',header=True).csv(\"student3.tsv\")\n",
        "df4.head(5)"
      ],
      "metadata": {
        "colab": {
          "base_uri": "https://localhost:8080/"
        },
        "id": "aWyd9GDvfLE9",
        "outputId": "ba972970-3752-41d4-c1c6-1f10543226a3"
      },
      "execution_count": null,
      "outputs": [
        {
          "output_type": "execute_result",
          "data": {
            "text/plain": [
              "[Row(roll='1', name='anil', class='TE', marks='56.77', age='22'),\n",
              " Row(roll='2', name='amit', class='TE', marks='59.77', age='21'),\n",
              " Row(roll='3', name='aniket', class='BE', marks='76.88', age='19'),\n",
              " Row(roll='4', name='ajinkya', class='TE', marks='69.66', age='20'),\n",
              " Row(roll='5', name='asha', class='TE', marks='63.28', age='20')]"
            ]
          },
          "metadata": {},
          "execution_count": 27
        }
      ]
    },
    {
      "cell_type": "code",
      "source": [
        "df4 = spark.read.options(header=True, inferSchema=True).csv(\"student.csv\")"
      ],
      "metadata": {
        "id": "yFaRhERsmHIh"
      },
      "execution_count": null,
      "outputs": []
    },
    {
      "cell_type": "code",
      "source": [
        "df4.printSchema()"
      ],
      "metadata": {
        "colab": {
          "base_uri": "https://localhost:8080/"
        },
        "id": "WfbQRj4tmPRv",
        "outputId": "f4299216-31ed-431e-d9f4-faa1d2952065"
      },
      "execution_count": null,
      "outputs": [
        {
          "output_type": "stream",
          "name": "stdout",
          "text": [
            "root\n",
            " |-- roll: integer (nullable = true)\n",
            " |-- name: string (nullable = true)\n",
            " |-- class: string (nullable = true)\n",
            " |-- marks: double (nullable = true)\n",
            " |-- age: integer (nullable = true)\n",
            "\n"
          ]
        }
      ]
    },
    {
      "cell_type": "markdown",
      "source": [
        "# Create User Defined Schema"
      ],
      "metadata": {
        "id": "dBRCRiB9ndxT"
      }
    },
    {
      "cell_type": "code",
      "source": [
        " from pyspark.sql.types import *"
      ],
      "metadata": {
        "id": "J9XyVWAvng6j"
      },
      "execution_count": null,
      "outputs": []
    },
    {
      "cell_type": "code",
      "source": [
        "schema = StructType()\\\n",
        "                    .add(\"roll\",IntegerType(), True)\\\n",
        "                    .add(\"name\",StringType(), True)\\\n",
        "                    .add(\"class\",StringType(), True)\\\n",
        "                    .add(\"marks\",DoubleType(), True)\\\n",
        "                    .add(\"age\",IntegerType(), True)\n"
      ],
      "metadata": {
        "id": "r8nEpvljoCv7"
      },
      "execution_count": null,
      "outputs": []
    },
    {
      "cell_type": "code",
      "source": [
        "df_s = spark.read.format(\"csv\")\\\n",
        "                 .option(\"header\", True)\\\n",
        "                 .schema(schema)\\\n",
        "                 .load(\"student.csv\")"
      ],
      "metadata": {
        "id": "GYwSGGLIouMV"
      },
      "execution_count": null,
      "outputs": []
    },
    {
      "cell_type": "code",
      "source": [
        "df_s.head(4)"
      ],
      "metadata": {
        "colab": {
          "base_uri": "https://localhost:8080/"
        },
        "id": "thgku5UgpSe8",
        "outputId": "584ed932-fa2f-4e4e-fa45-e1602a23ac08"
      },
      "execution_count": null,
      "outputs": [
        {
          "output_type": "execute_result",
          "data": {
            "text/plain": [
              "[Row(roll=1, name='anil', class='TE', marks=56.77, age=22),\n",
              " Row(roll=2, name='amit', class='TE', marks=59.77, age=21),\n",
              " Row(roll=3, name='aniket', class='BE', marks=76.88, age=19),\n",
              " Row(roll=4, name='ajinkya', class='TE', marks=69.66, age=20)]"
            ]
          },
          "metadata": {},
          "execution_count": 37
        }
      ]
    },
    {
      "cell_type": "code",
      "source": [
        "df_s.write.options(header=True).csv('newfile')"
      ],
      "metadata": {
        "id": "tpLZEdBQqszl"
      },
      "execution_count": null,
      "outputs": []
    },
    {
      "cell_type": "markdown",
      "source": [
        "### Dataframe Operations\n",
        "- dataframe in spark is distributed data collection\n",
        "- more SQL like with columns and not same as pandas dataframe\n",
        "- sqlContext is used for json\n"
      ],
      "metadata": {
        "id": "3aBpCNmarcap"
      }
    },
    {
      "cell_type": "code",
      "source": [
        "df_json = spark.read.json(\"students.json\")"
      ],
      "metadata": {
        "id": "L0sb1QGeq8mV"
      },
      "execution_count": null,
      "outputs": []
    },
    {
      "cell_type": "code",
      "source": [
        "df_json.head(2)"
      ],
      "metadata": {
        "colab": {
          "base_uri": "https://localhost:8080/"
        },
        "id": "LpA5cEACscw6",
        "outputId": "4249d90b-ccc0-40e1-cad7-0c830b458299"
      },
      "execution_count": null,
      "outputs": [
        {
          "output_type": "execute_result",
          "data": {
            "text/plain": [
              "[Row(_id=0, name='aimee Zank', scores=[Row(score=1.463179736705023, type='exam'), Row(score=11.78273309957772, type='quiz'), Row(score=35.8740349954354, type='homework')]),\n",
              " Row(_id=1, name='Aurelia Menendez', scores=[Row(score=60.06045071030959, type='exam'), Row(score=52.79790691903873, type='quiz'), Row(score=71.76133439165544, type='homework')])]"
            ]
          },
          "metadata": {},
          "execution_count": 40
        }
      ]
    },
    {
      "cell_type": "code",
      "source": [
        "type(df_json)"
      ],
      "metadata": {
        "colab": {
          "base_uri": "https://localhost:8080/"
        },
        "id": "b8PP4xBUsfaC",
        "outputId": "0b12b15c-6a7e-4fbc-e3b6-714392263d2e"
      },
      "execution_count": null,
      "outputs": [
        {
          "output_type": "execute_result",
          "data": {
            "text/plain": [
              "pyspark.sql.dataframe.DataFrame"
            ]
          },
          "metadata": {},
          "execution_count": 41
        }
      ]
    },
    {
      "cell_type": "code",
      "source": [
        "df_json.show()"
      ],
      "metadata": {
        "colab": {
          "base_uri": "https://localhost:8080/"
        },
        "id": "Y44aKZoAsoYT",
        "outputId": "c14a5ada-07f7-4dc4-adce-728446e26082"
      },
      "execution_count": null,
      "outputs": [
        {
          "output_type": "stream",
          "name": "stdout",
          "text": [
            "+---+------------------+--------------------+\n",
            "|_id|              name|              scores|\n",
            "+---+------------------+--------------------+\n",
            "|  0|        aimee Zank|[{1.4631797367050...|\n",
            "|  1|  Aurelia Menendez|[{60.060450710309...|\n",
            "|  2|       Corliss Zuk|[{67.030770960650...|\n",
            "|  3|        Bao Ziglar|[{71.643438997783...|\n",
            "|  4|  Zachary Langlais|[{78.683850913043...|\n",
            "|  5|    Wilburn Spiess|[{44.871863301812...|\n",
            "|  6|  Jenette Flanders|[{37.322854591660...|\n",
            "|  7|      Salena Olmos|[{90.378265091571...|\n",
            "|  8|      Daphne Zheng|[{22.135837128626...|\n",
            "|  9|        Sanda Ryba|[{97.005099536546...|\n",
            "| 10|      Denisha Cast|[{45.618768622594...|\n",
            "| 11|      Marcus Blohm|[{78.426178356518...|\n",
            "| 12|    Quincy Danaher|[{54.298412785206...|\n",
            "| 13|  Jessika Dagenais|[{90.471799544274...|\n",
            "| 14|     Alix Sherrill|[{25.159241519982...|\n",
            "| 15|    Tambra Mercure|[{69.156502253315...|\n",
            "| 16|     Dodie Staller|[{7.7723864428582...|\n",
            "| 17|Fletcher Mcconnell|[{39.410110697292...|\n",
            "| 18|  Verdell Sowinski|[{62.128702331090...|\n",
            "| 19|      Gisela Levin|[{44.512111019588...|\n",
            "+---+------------------+--------------------+\n",
            "only showing top 20 rows\n",
            "\n"
          ]
        }
      ]
    },
    {
      "cell_type": "code",
      "source": [
        "df_json.select('name').show()"
      ],
      "metadata": {
        "colab": {
          "base_uri": "https://localhost:8080/"
        },
        "id": "_gp6yyrFs-U0",
        "outputId": "92eb0180-85a6-4670-f76b-2819e69ff4d5"
      },
      "execution_count": null,
      "outputs": [
        {
          "output_type": "stream",
          "name": "stdout",
          "text": [
            "+------------------+\n",
            "|              name|\n",
            "+------------------+\n",
            "|        aimee Zank|\n",
            "|  Aurelia Menendez|\n",
            "|       Corliss Zuk|\n",
            "|        Bao Ziglar|\n",
            "|  Zachary Langlais|\n",
            "|    Wilburn Spiess|\n",
            "|  Jenette Flanders|\n",
            "|      Salena Olmos|\n",
            "|      Daphne Zheng|\n",
            "|        Sanda Ryba|\n",
            "|      Denisha Cast|\n",
            "|      Marcus Blohm|\n",
            "|    Quincy Danaher|\n",
            "|  Jessika Dagenais|\n",
            "|     Alix Sherrill|\n",
            "|    Tambra Mercure|\n",
            "|     Dodie Staller|\n",
            "|Fletcher Mcconnell|\n",
            "|  Verdell Sowinski|\n",
            "|      Gisela Levin|\n",
            "+------------------+\n",
            "only showing top 20 rows\n",
            "\n"
          ]
        }
      ]
    },
    {
      "cell_type": "code",
      "source": [
        "df_json.select(['name','scores']).show()"
      ],
      "metadata": {
        "colab": {
          "base_uri": "https://localhost:8080/"
        },
        "id": "_wSbAlnDt6Kd",
        "outputId": "4ddc26f1-b7ef-4b3a-97cd-d157060aea21"
      },
      "execution_count": null,
      "outputs": [
        {
          "output_type": "stream",
          "name": "stdout",
          "text": [
            "+------------------+--------------------+\n",
            "|              name|              scores|\n",
            "+------------------+--------------------+\n",
            "|        aimee Zank|[{1.4631797367050...|\n",
            "|  Aurelia Menendez|[{60.060450710309...|\n",
            "|       Corliss Zuk|[{67.030770960650...|\n",
            "|        Bao Ziglar|[{71.643438997783...|\n",
            "|  Zachary Langlais|[{78.683850913043...|\n",
            "|    Wilburn Spiess|[{44.871863301812...|\n",
            "|  Jenette Flanders|[{37.322854591660...|\n",
            "|      Salena Olmos|[{90.378265091571...|\n",
            "|      Daphne Zheng|[{22.135837128626...|\n",
            "|        Sanda Ryba|[{97.005099536546...|\n",
            "|      Denisha Cast|[{45.618768622594...|\n",
            "|      Marcus Blohm|[{78.426178356518...|\n",
            "|    Quincy Danaher|[{54.298412785206...|\n",
            "|  Jessika Dagenais|[{90.471799544274...|\n",
            "|     Alix Sherrill|[{25.159241519982...|\n",
            "|    Tambra Mercure|[{69.156502253315...|\n",
            "|     Dodie Staller|[{7.7723864428582...|\n",
            "|Fletcher Mcconnell|[{39.410110697292...|\n",
            "|  Verdell Sowinski|[{62.128702331090...|\n",
            "|      Gisela Levin|[{44.512111019588...|\n",
            "+------------------+--------------------+\n",
            "only showing top 20 rows\n",
            "\n"
          ]
        }
      ]
    },
    {
      "cell_type": "code",
      "source": [
        "df2.filter(df2['marks']>60).show()"
      ],
      "metadata": {
        "colab": {
          "base_uri": "https://localhost:8080/"
        },
        "id": "ZQ6M06wzuLla",
        "outputId": "437cdd09-1ac7-49cd-a7b3-263fe907e33f"
      },
      "execution_count": null,
      "outputs": [
        {
          "output_type": "stream",
          "name": "stdout",
          "text": [
            "+----+-------+-----+-----+---+\n",
            "|roll|   name|class|marks|age|\n",
            "+----+-------+-----+-----+---+\n",
            "|   3| aniket|   BE|76.88| 19|\n",
            "|   4|ajinkya|   TE|69.66| 20|\n",
            "|   5|   asha|   TE|63.28| 20|\n",
            "|   7|   amar|   BE|65.34| 19|\n",
            "|   8|  amita|   BE|68.33| 23|\n",
            "|  10|  anmol|   BE|78.66| 21|\n",
            "+----+-------+-----+-----+---+\n",
            "\n"
          ]
        }
      ]
    },
    {
      "cell_type": "code",
      "source": [
        "df2.filter((df2['marks']>60) & (df2['class']=='BE')).show()"
      ],
      "metadata": {
        "colab": {
          "base_uri": "https://localhost:8080/"
        },
        "id": "UuUQa8lwuo7H",
        "outputId": "882b3415-ac30-4b6b-888e-337a8278c284"
      },
      "execution_count": null,
      "outputs": [
        {
          "output_type": "stream",
          "name": "stdout",
          "text": [
            "+----+------+-----+-----+---+\n",
            "|roll|  name|class|marks|age|\n",
            "+----+------+-----+-----+---+\n",
            "|   3|aniket|   BE|76.88| 19|\n",
            "|   7|  amar|   BE|65.34| 19|\n",
            "|   8| amita|   BE|68.33| 23|\n",
            "|  10| anmol|   BE|78.66| 21|\n",
            "+----+------+-----+-----+---+\n",
            "\n"
          ]
        }
      ]
    },
    {
      "cell_type": "code",
      "source": [
        "df2.groupBy('class').count().show()"
      ],
      "metadata": {
        "colab": {
          "base_uri": "https://localhost:8080/"
        },
        "id": "nKE6uV2gwFhX",
        "outputId": "67575a53-b5ee-4e24-b86b-f2da3c312172"
      },
      "execution_count": null,
      "outputs": [
        {
          "output_type": "stream",
          "name": "stdout",
          "text": [
            "+-----+-----+\n",
            "|class|count|\n",
            "+-----+-----+\n",
            "|   TE|    5|\n",
            "|   BE|    5|\n",
            "+-----+-----+\n",
            "\n"
          ]
        }
      ]
    },
    {
      "cell_type": "code",
      "source": [
        "df4.groupBy('class').max().show()"
      ],
      "metadata": {
        "colab": {
          "base_uri": "https://localhost:8080/"
        },
        "id": "qwuHy_IywPT6",
        "outputId": "c34b4e80-de06-4043-dd95-8aec75901410"
      },
      "execution_count": null,
      "outputs": [
        {
          "output_type": "stream",
          "name": "stdout",
          "text": [
            "+-----+---------+----------+--------+\n",
            "|class|max(roll)|max(marks)|max(age)|\n",
            "+-----+---------+----------+--------+\n",
            "|   TE|        9|     69.66|      22|\n",
            "|   BE|       10|     78.66|      23|\n",
            "+-----+---------+----------+--------+\n",
            "\n"
          ]
        }
      ]
    },
    {
      "cell_type": "code",
      "source": [
        "df4.select(['class','marks']).groupBy('class').max().show()"
      ],
      "metadata": {
        "colab": {
          "base_uri": "https://localhost:8080/"
        },
        "id": "hUIkuYpmwn_D",
        "outputId": "470b6c8b-2b6d-4dea-bcdf-e24d428e3be4"
      },
      "execution_count": null,
      "outputs": [
        {
          "output_type": "stream",
          "name": "stdout",
          "text": [
            "+-----+----------+\n",
            "|class|max(marks)|\n",
            "+-----+----------+\n",
            "|   TE|     69.66|\n",
            "|   BE|     78.66|\n",
            "+-----+----------+\n",
            "\n"
          ]
        }
      ]
    },
    {
      "cell_type": "code",
      "source": [
        "x = df4.toDF('roll','name','class','marks','age')\n",
        "x.show(3)"
      ],
      "metadata": {
        "colab": {
          "base_uri": "https://localhost:8080/"
        },
        "id": "sMA0oTKgxz7P",
        "outputId": "80f8dbea-282d-45c3-b4de-10f3e760aac5"
      },
      "execution_count": null,
      "outputs": [
        {
          "output_type": "stream",
          "name": "stdout",
          "text": [
            "+----+------+-----+-----+---+\n",
            "|roll|  name|class|marks|age|\n",
            "+----+------+-----+-----+---+\n",
            "|   1|  anil|   TE|56.77| 22|\n",
            "|   2|  amit|   TE|59.77| 21|\n",
            "|   3|aniket|   BE|76.88| 19|\n",
            "+----+------+-----+-----+---+\n",
            "only showing top 3 rows\n",
            "\n"
          ]
        }
      ]
    },
    {
      "cell_type": "code",
      "source": [
        "a = [1,2,3]\n",
        "b = a"
      ],
      "metadata": {
        "id": "hSEav6vuyR7z"
      },
      "execution_count": null,
      "outputs": []
    },
    {
      "cell_type": "code",
      "source": [
        "b.append(4)"
      ],
      "metadata": {
        "id": "IRN7zP7iygRx"
      },
      "execution_count": null,
      "outputs": []
    },
    {
      "cell_type": "code",
      "source": [
        "a, id(a)"
      ],
      "metadata": {
        "colab": {
          "base_uri": "https://localhost:8080/"
        },
        "id": "XiLYVthKyhyw",
        "outputId": "4567e441-0580-45c8-fdca-29bd875b4d99"
      },
      "execution_count": null,
      "outputs": [
        {
          "output_type": "execute_result",
          "data": {
            "text/plain": [
              "([1, 2, 3, 4], 140438046224128)"
            ]
          },
          "metadata": {},
          "execution_count": 96
        }
      ]
    },
    {
      "cell_type": "code",
      "source": [
        "b, id(b)"
      ],
      "metadata": {
        "colab": {
          "base_uri": "https://localhost:8080/"
        },
        "id": "HZi9VYY1yl5_",
        "outputId": "f9e78391-ea09-4710-ccfe-c595b7b740da"
      },
      "execution_count": null,
      "outputs": [
        {
          "output_type": "execute_result",
          "data": {
            "text/plain": [
              "([1, 2, 3, 4], 140438046224128)"
            ]
          },
          "metadata": {},
          "execution_count": 97
        }
      ]
    },
    {
      "cell_type": "code",
      "source": [
        "id(df4)"
      ],
      "metadata": {
        "colab": {
          "base_uri": "https://localhost:8080/"
        },
        "id": "eIfP94nkzCOS",
        "outputId": "54f49818-60ed-4e46-f061-6a046a354282"
      },
      "execution_count": null,
      "outputs": [
        {
          "output_type": "execute_result",
          "data": {
            "text/plain": [
              "140438201327872"
            ]
          },
          "metadata": {},
          "execution_count": 98
        }
      ]
    },
    {
      "cell_type": "code",
      "source": [
        "id(x)"
      ],
      "metadata": {
        "colab": {
          "base_uri": "https://localhost:8080/"
        },
        "id": "P9nIKG_5zVKi",
        "outputId": "3379ce46-cf7e-4a5d-8040-830038c37ced"
      },
      "execution_count": null,
      "outputs": [
        {
          "output_type": "execute_result",
          "data": {
            "text/plain": [
              "140438200996576"
            ]
          },
          "metadata": {},
          "execution_count": 99
        }
      ]
    },
    {
      "cell_type": "code",
      "source": [
        "newdf = df4.toDF('1','2','3','4','5')\n",
        "newdf.show()"
      ],
      "metadata": {
        "colab": {
          "base_uri": "https://localhost:8080/"
        },
        "id": "_m8asgHOzWVx",
        "outputId": "9c13feb7-cfae-4442-ae3a-ba8e1e34f0b0"
      },
      "execution_count": null,
      "outputs": [
        {
          "output_type": "stream",
          "name": "stdout",
          "text": [
            "+---+-------+---+-----+---+\n",
            "|  1|      2|  3|    4|  5|\n",
            "+---+-------+---+-----+---+\n",
            "|  1|   anil| TE|56.77| 22|\n",
            "|  2|   amit| TE|59.77| 21|\n",
            "|  3| aniket| BE|76.88| 19|\n",
            "|  4|ajinkya| TE|69.66| 20|\n",
            "|  5|   asha| TE|63.28| 20|\n",
            "|  6| ayesha| BE|49.55| 20|\n",
            "|  7|   amar| BE|65.34| 19|\n",
            "|  8|  amita| BE|68.33| 23|\n",
            "|  9|   amol| TE|56.75| 20|\n",
            "| 10|  anmol| BE|78.66| 21|\n",
            "+---+-------+---+-----+---+\n",
            "\n"
          ]
        }
      ]
    },
    {
      "cell_type": "code",
      "source": [
        "newdf.columns"
      ],
      "metadata": {
        "colab": {
          "base_uri": "https://localhost:8080/"
        },
        "id": "fWAkwQiD1HBl",
        "outputId": "6fb56888-d68a-4fb2-b7d6-e6a6860bb2e3"
      },
      "execution_count": null,
      "outputs": [
        {
          "output_type": "execute_result",
          "data": {
            "text/plain": [
              "['1', '2', '3', '4', '5']"
            ]
          },
          "metadata": {},
          "execution_count": 101
        }
      ]
    },
    {
      "cell_type": "code",
      "source": [
        "newdf.take(3)"
      ],
      "metadata": {
        "colab": {
          "base_uri": "https://localhost:8080/"
        },
        "id": "CI4R65Jh1I5H",
        "outputId": "2c50e32b-a982-481b-d78f-59c00d203645"
      },
      "execution_count": null,
      "outputs": [
        {
          "output_type": "execute_result",
          "data": {
            "text/plain": [
              "[Row(1=1, 2='anil', 3='TE', 4=56.77, 5=22),\n",
              " Row(1=2, 2='amit', 3='TE', 4=59.77, 5=21),\n",
              " Row(1=3, 2='aniket', 3='BE', 4=76.88, 5=19)]"
            ]
          },
          "metadata": {},
          "execution_count": 104
        }
      ]
    },
    {
      "cell_type": "code",
      "source": [
        "df4.drop('class').show()"
      ],
      "metadata": {
        "colab": {
          "base_uri": "https://localhost:8080/"
        },
        "id": "dW_an0uL1uyd",
        "outputId": "a88db196-e1c7-453c-fd4f-806581e4f2c6"
      },
      "execution_count": null,
      "outputs": [
        {
          "output_type": "stream",
          "name": "stdout",
          "text": [
            "+----+-------+-----+---+\n",
            "|roll|   name|marks|age|\n",
            "+----+-------+-----+---+\n",
            "|   1|   anil|56.77| 22|\n",
            "|   2|   amit|59.77| 21|\n",
            "|   3| aniket|76.88| 19|\n",
            "|   4|ajinkya|69.66| 20|\n",
            "|   5|   asha|63.28| 20|\n",
            "|   6| ayesha|49.55| 20|\n",
            "|   7|   amar|65.34| 19|\n",
            "|   8|  amita|68.33| 23|\n",
            "|   9|   amol|56.75| 20|\n",
            "|  10|  anmol|78.66| 21|\n",
            "+----+-------+-----+---+\n",
            "\n"
          ]
        }
      ]
    },
    {
      "cell_type": "code",
      "source": [
        "pdf = df4.toPandas()\n",
        "pdf"
      ],
      "metadata": {
        "colab": {
          "base_uri": "https://localhost:8080/",
          "height": 363
        },
        "id": "B4QxtVVS1u4H",
        "outputId": "4056c14c-7ea8-4192-dd2e-b00d32321f32"
      },
      "execution_count": null,
      "outputs": [
        {
          "output_type": "execute_result",
          "data": {
            "text/plain": [
              "   roll     name class  marks  age\n",
              "0     1     anil    TE  56.77   22\n",
              "1     2     amit    TE  59.77   21\n",
              "2     3   aniket    BE  76.88   19\n",
              "3     4  ajinkya    TE  69.66   20\n",
              "4     5     asha    TE  63.28   20\n",
              "5     6   ayesha    BE  49.55   20\n",
              "6     7     amar    BE  65.34   19\n",
              "7     8    amita    BE  68.33   23\n",
              "8     9     amol    TE  56.75   20\n",
              "9    10    anmol    BE  78.66   21"
            ],
            "text/html": [
              "\n",
              "  <div id=\"df-940be26e-d055-4efa-ae5c-4074bc109f96\">\n",
              "    <div class=\"colab-df-container\">\n",
              "      <div>\n",
              "<style scoped>\n",
              "    .dataframe tbody tr th:only-of-type {\n",
              "        vertical-align: middle;\n",
              "    }\n",
              "\n",
              "    .dataframe tbody tr th {\n",
              "        vertical-align: top;\n",
              "    }\n",
              "\n",
              "    .dataframe thead th {\n",
              "        text-align: right;\n",
              "    }\n",
              "</style>\n",
              "<table border=\"1\" class=\"dataframe\">\n",
              "  <thead>\n",
              "    <tr style=\"text-align: right;\">\n",
              "      <th></th>\n",
              "      <th>roll</th>\n",
              "      <th>name</th>\n",
              "      <th>class</th>\n",
              "      <th>marks</th>\n",
              "      <th>age</th>\n",
              "    </tr>\n",
              "  </thead>\n",
              "  <tbody>\n",
              "    <tr>\n",
              "      <th>0</th>\n",
              "      <td>1</td>\n",
              "      <td>anil</td>\n",
              "      <td>TE</td>\n",
              "      <td>56.77</td>\n",
              "      <td>22</td>\n",
              "    </tr>\n",
              "    <tr>\n",
              "      <th>1</th>\n",
              "      <td>2</td>\n",
              "      <td>amit</td>\n",
              "      <td>TE</td>\n",
              "      <td>59.77</td>\n",
              "      <td>21</td>\n",
              "    </tr>\n",
              "    <tr>\n",
              "      <th>2</th>\n",
              "      <td>3</td>\n",
              "      <td>aniket</td>\n",
              "      <td>BE</td>\n",
              "      <td>76.88</td>\n",
              "      <td>19</td>\n",
              "    </tr>\n",
              "    <tr>\n",
              "      <th>3</th>\n",
              "      <td>4</td>\n",
              "      <td>ajinkya</td>\n",
              "      <td>TE</td>\n",
              "      <td>69.66</td>\n",
              "      <td>20</td>\n",
              "    </tr>\n",
              "    <tr>\n",
              "      <th>4</th>\n",
              "      <td>5</td>\n",
              "      <td>asha</td>\n",
              "      <td>TE</td>\n",
              "      <td>63.28</td>\n",
              "      <td>20</td>\n",
              "    </tr>\n",
              "    <tr>\n",
              "      <th>5</th>\n",
              "      <td>6</td>\n",
              "      <td>ayesha</td>\n",
              "      <td>BE</td>\n",
              "      <td>49.55</td>\n",
              "      <td>20</td>\n",
              "    </tr>\n",
              "    <tr>\n",
              "      <th>6</th>\n",
              "      <td>7</td>\n",
              "      <td>amar</td>\n",
              "      <td>BE</td>\n",
              "      <td>65.34</td>\n",
              "      <td>19</td>\n",
              "    </tr>\n",
              "    <tr>\n",
              "      <th>7</th>\n",
              "      <td>8</td>\n",
              "      <td>amita</td>\n",
              "      <td>BE</td>\n",
              "      <td>68.33</td>\n",
              "      <td>23</td>\n",
              "    </tr>\n",
              "    <tr>\n",
              "      <th>8</th>\n",
              "      <td>9</td>\n",
              "      <td>amol</td>\n",
              "      <td>TE</td>\n",
              "      <td>56.75</td>\n",
              "      <td>20</td>\n",
              "    </tr>\n",
              "    <tr>\n",
              "      <th>9</th>\n",
              "      <td>10</td>\n",
              "      <td>anmol</td>\n",
              "      <td>BE</td>\n",
              "      <td>78.66</td>\n",
              "      <td>21</td>\n",
              "    </tr>\n",
              "  </tbody>\n",
              "</table>\n",
              "</div>\n",
              "      <button class=\"colab-df-convert\" onclick=\"convertToInteractive('df-940be26e-d055-4efa-ae5c-4074bc109f96')\"\n",
              "              title=\"Convert this dataframe to an interactive table.\"\n",
              "              style=\"display:none;\">\n",
              "        \n",
              "  <svg xmlns=\"http://www.w3.org/2000/svg\" height=\"24px\"viewBox=\"0 0 24 24\"\n",
              "       width=\"24px\">\n",
              "    <path d=\"M0 0h24v24H0V0z\" fill=\"none\"/>\n",
              "    <path d=\"M18.56 5.44l.94 2.06.94-2.06 2.06-.94-2.06-.94-.94-2.06-.94 2.06-2.06.94zm-11 1L8.5 8.5l.94-2.06 2.06-.94-2.06-.94L8.5 2.5l-.94 2.06-2.06.94zm10 10l.94 2.06.94-2.06 2.06-.94-2.06-.94-.94-2.06-.94 2.06-2.06.94z\"/><path d=\"M17.41 7.96l-1.37-1.37c-.4-.4-.92-.59-1.43-.59-.52 0-1.04.2-1.43.59L10.3 9.45l-7.72 7.72c-.78.78-.78 2.05 0 2.83L4 21.41c.39.39.9.59 1.41.59.51 0 1.02-.2 1.41-.59l7.78-7.78 2.81-2.81c.8-.78.8-2.07 0-2.86zM5.41 20L4 18.59l7.72-7.72 1.47 1.35L5.41 20z\"/>\n",
              "  </svg>\n",
              "      </button>\n",
              "      \n",
              "  <style>\n",
              "    .colab-df-container {\n",
              "      display:flex;\n",
              "      flex-wrap:wrap;\n",
              "      gap: 12px;\n",
              "    }\n",
              "\n",
              "    .colab-df-convert {\n",
              "      background-color: #E8F0FE;\n",
              "      border: none;\n",
              "      border-radius: 50%;\n",
              "      cursor: pointer;\n",
              "      display: none;\n",
              "      fill: #1967D2;\n",
              "      height: 32px;\n",
              "      padding: 0 0 0 0;\n",
              "      width: 32px;\n",
              "    }\n",
              "\n",
              "    .colab-df-convert:hover {\n",
              "      background-color: #E2EBFA;\n",
              "      box-shadow: 0px 1px 2px rgba(60, 64, 67, 0.3), 0px 1px 3px 1px rgba(60, 64, 67, 0.15);\n",
              "      fill: #174EA6;\n",
              "    }\n",
              "\n",
              "    [theme=dark] .colab-df-convert {\n",
              "      background-color: #3B4455;\n",
              "      fill: #D2E3FC;\n",
              "    }\n",
              "\n",
              "    [theme=dark] .colab-df-convert:hover {\n",
              "      background-color: #434B5C;\n",
              "      box-shadow: 0px 1px 3px 1px rgba(0, 0, 0, 0.15);\n",
              "      filter: drop-shadow(0px 1px 2px rgba(0, 0, 0, 0.3));\n",
              "      fill: #FFFFFF;\n",
              "    }\n",
              "  </style>\n",
              "\n",
              "      <script>\n",
              "        const buttonEl =\n",
              "          document.querySelector('#df-940be26e-d055-4efa-ae5c-4074bc109f96 button.colab-df-convert');\n",
              "        buttonEl.style.display =\n",
              "          google.colab.kernel.accessAllowed ? 'block' : 'none';\n",
              "\n",
              "        async function convertToInteractive(key) {\n",
              "          const element = document.querySelector('#df-940be26e-d055-4efa-ae5c-4074bc109f96');\n",
              "          const dataTable =\n",
              "            await google.colab.kernel.invokeFunction('convertToInteractive',\n",
              "                                                     [key], {});\n",
              "          if (!dataTable) return;\n",
              "\n",
              "          const docLinkHtml = 'Like what you see? Visit the ' +\n",
              "            '<a target=\"_blank\" href=https://colab.research.google.com/notebooks/data_table.ipynb>data table notebook</a>'\n",
              "            + ' to learn more about interactive tables.';\n",
              "          element.innerHTML = '';\n",
              "          dataTable['output_type'] = 'display_data';\n",
              "          await google.colab.output.renderOutput(dataTable, element);\n",
              "          const docLink = document.createElement('div');\n",
              "          docLink.innerHTML = docLinkHtml;\n",
              "          element.appendChild(docLink);\n",
              "        }\n",
              "      </script>\n",
              "    </div>\n",
              "  </div>\n",
              "  "
            ]
          },
          "metadata": {},
          "execution_count": 106
        }
      ]
    },
    {
      "cell_type": "code",
      "source": [
        "import pandas as pd\n"
      ],
      "metadata": {
        "id": "LZrxj-Mv2nm_"
      },
      "execution_count": null,
      "outputs": []
    },
    {
      "cell_type": "code",
      "source": [
        "gender = ['M','M','M','M','F','F','M','F','M','M']\n",
        "pdf['gender'] = gender\n",
        "pdf"
      ],
      "metadata": {
        "colab": {
          "base_uri": "https://localhost:8080/",
          "height": 363
        },
        "id": "ANDTFY1Q305T",
        "outputId": "b5988ad0-cf59-41b2-a493-641e0f900451"
      },
      "execution_count": null,
      "outputs": [
        {
          "output_type": "execute_result",
          "data": {
            "text/plain": [
              "   roll     name class  marks  age gender\n",
              "0     1     anil    TE  56.77   22      M\n",
              "1     2     amit    TE  59.77   21      M\n",
              "2     3   aniket    BE  76.88   19      M\n",
              "3     4  ajinkya    TE  69.66   20      M\n",
              "4     5     asha    TE  63.28   20      F\n",
              "5     6   ayesha    BE  49.55   20      F\n",
              "6     7     amar    BE  65.34   19      M\n",
              "7     8    amita    BE  68.33   23      F\n",
              "8     9     amol    TE  56.75   20      M\n",
              "9    10    anmol    BE  78.66   21      M"
            ],
            "text/html": [
              "\n",
              "  <div id=\"df-5c6fb265-bfd5-41e5-bc62-a086fc80b459\">\n",
              "    <div class=\"colab-df-container\">\n",
              "      <div>\n",
              "<style scoped>\n",
              "    .dataframe tbody tr th:only-of-type {\n",
              "        vertical-align: middle;\n",
              "    }\n",
              "\n",
              "    .dataframe tbody tr th {\n",
              "        vertical-align: top;\n",
              "    }\n",
              "\n",
              "    .dataframe thead th {\n",
              "        text-align: right;\n",
              "    }\n",
              "</style>\n",
              "<table border=\"1\" class=\"dataframe\">\n",
              "  <thead>\n",
              "    <tr style=\"text-align: right;\">\n",
              "      <th></th>\n",
              "      <th>roll</th>\n",
              "      <th>name</th>\n",
              "      <th>class</th>\n",
              "      <th>marks</th>\n",
              "      <th>age</th>\n",
              "      <th>gender</th>\n",
              "    </tr>\n",
              "  </thead>\n",
              "  <tbody>\n",
              "    <tr>\n",
              "      <th>0</th>\n",
              "      <td>1</td>\n",
              "      <td>anil</td>\n",
              "      <td>TE</td>\n",
              "      <td>56.77</td>\n",
              "      <td>22</td>\n",
              "      <td>M</td>\n",
              "    </tr>\n",
              "    <tr>\n",
              "      <th>1</th>\n",
              "      <td>2</td>\n",
              "      <td>amit</td>\n",
              "      <td>TE</td>\n",
              "      <td>59.77</td>\n",
              "      <td>21</td>\n",
              "      <td>M</td>\n",
              "    </tr>\n",
              "    <tr>\n",
              "      <th>2</th>\n",
              "      <td>3</td>\n",
              "      <td>aniket</td>\n",
              "      <td>BE</td>\n",
              "      <td>76.88</td>\n",
              "      <td>19</td>\n",
              "      <td>M</td>\n",
              "    </tr>\n",
              "    <tr>\n",
              "      <th>3</th>\n",
              "      <td>4</td>\n",
              "      <td>ajinkya</td>\n",
              "      <td>TE</td>\n",
              "      <td>69.66</td>\n",
              "      <td>20</td>\n",
              "      <td>M</td>\n",
              "    </tr>\n",
              "    <tr>\n",
              "      <th>4</th>\n",
              "      <td>5</td>\n",
              "      <td>asha</td>\n",
              "      <td>TE</td>\n",
              "      <td>63.28</td>\n",
              "      <td>20</td>\n",
              "      <td>F</td>\n",
              "    </tr>\n",
              "    <tr>\n",
              "      <th>5</th>\n",
              "      <td>6</td>\n",
              "      <td>ayesha</td>\n",
              "      <td>BE</td>\n",
              "      <td>49.55</td>\n",
              "      <td>20</td>\n",
              "      <td>F</td>\n",
              "    </tr>\n",
              "    <tr>\n",
              "      <th>6</th>\n",
              "      <td>7</td>\n",
              "      <td>amar</td>\n",
              "      <td>BE</td>\n",
              "      <td>65.34</td>\n",
              "      <td>19</td>\n",
              "      <td>M</td>\n",
              "    </tr>\n",
              "    <tr>\n",
              "      <th>7</th>\n",
              "      <td>8</td>\n",
              "      <td>amita</td>\n",
              "      <td>BE</td>\n",
              "      <td>68.33</td>\n",
              "      <td>23</td>\n",
              "      <td>F</td>\n",
              "    </tr>\n",
              "    <tr>\n",
              "      <th>8</th>\n",
              "      <td>9</td>\n",
              "      <td>amol</td>\n",
              "      <td>TE</td>\n",
              "      <td>56.75</td>\n",
              "      <td>20</td>\n",
              "      <td>M</td>\n",
              "    </tr>\n",
              "    <tr>\n",
              "      <th>9</th>\n",
              "      <td>10</td>\n",
              "      <td>anmol</td>\n",
              "      <td>BE</td>\n",
              "      <td>78.66</td>\n",
              "      <td>21</td>\n",
              "      <td>M</td>\n",
              "    </tr>\n",
              "  </tbody>\n",
              "</table>\n",
              "</div>\n",
              "      <button class=\"colab-df-convert\" onclick=\"convertToInteractive('df-5c6fb265-bfd5-41e5-bc62-a086fc80b459')\"\n",
              "              title=\"Convert this dataframe to an interactive table.\"\n",
              "              style=\"display:none;\">\n",
              "        \n",
              "  <svg xmlns=\"http://www.w3.org/2000/svg\" height=\"24px\"viewBox=\"0 0 24 24\"\n",
              "       width=\"24px\">\n",
              "    <path d=\"M0 0h24v24H0V0z\" fill=\"none\"/>\n",
              "    <path d=\"M18.56 5.44l.94 2.06.94-2.06 2.06-.94-2.06-.94-.94-2.06-.94 2.06-2.06.94zm-11 1L8.5 8.5l.94-2.06 2.06-.94-2.06-.94L8.5 2.5l-.94 2.06-2.06.94zm10 10l.94 2.06.94-2.06 2.06-.94-2.06-.94-.94-2.06-.94 2.06-2.06.94z\"/><path d=\"M17.41 7.96l-1.37-1.37c-.4-.4-.92-.59-1.43-.59-.52 0-1.04.2-1.43.59L10.3 9.45l-7.72 7.72c-.78.78-.78 2.05 0 2.83L4 21.41c.39.39.9.59 1.41.59.51 0 1.02-.2 1.41-.59l7.78-7.78 2.81-2.81c.8-.78.8-2.07 0-2.86zM5.41 20L4 18.59l7.72-7.72 1.47 1.35L5.41 20z\"/>\n",
              "  </svg>\n",
              "      </button>\n",
              "      \n",
              "  <style>\n",
              "    .colab-df-container {\n",
              "      display:flex;\n",
              "      flex-wrap:wrap;\n",
              "      gap: 12px;\n",
              "    }\n",
              "\n",
              "    .colab-df-convert {\n",
              "      background-color: #E8F0FE;\n",
              "      border: none;\n",
              "      border-radius: 50%;\n",
              "      cursor: pointer;\n",
              "      display: none;\n",
              "      fill: #1967D2;\n",
              "      height: 32px;\n",
              "      padding: 0 0 0 0;\n",
              "      width: 32px;\n",
              "    }\n",
              "\n",
              "    .colab-df-convert:hover {\n",
              "      background-color: #E2EBFA;\n",
              "      box-shadow: 0px 1px 2px rgba(60, 64, 67, 0.3), 0px 1px 3px 1px rgba(60, 64, 67, 0.15);\n",
              "      fill: #174EA6;\n",
              "    }\n",
              "\n",
              "    [theme=dark] .colab-df-convert {\n",
              "      background-color: #3B4455;\n",
              "      fill: #D2E3FC;\n",
              "    }\n",
              "\n",
              "    [theme=dark] .colab-df-convert:hover {\n",
              "      background-color: #434B5C;\n",
              "      box-shadow: 0px 1px 3px 1px rgba(0, 0, 0, 0.15);\n",
              "      filter: drop-shadow(0px 1px 2px rgba(0, 0, 0, 0.3));\n",
              "      fill: #FFFFFF;\n",
              "    }\n",
              "  </style>\n",
              "\n",
              "      <script>\n",
              "        const buttonEl =\n",
              "          document.querySelector('#df-5c6fb265-bfd5-41e5-bc62-a086fc80b459 button.colab-df-convert');\n",
              "        buttonEl.style.display =\n",
              "          google.colab.kernel.accessAllowed ? 'block' : 'none';\n",
              "\n",
              "        async function convertToInteractive(key) {\n",
              "          const element = document.querySelector('#df-5c6fb265-bfd5-41e5-bc62-a086fc80b459');\n",
              "          const dataTable =\n",
              "            await google.colab.kernel.invokeFunction('convertToInteractive',\n",
              "                                                     [key], {});\n",
              "          if (!dataTable) return;\n",
              "\n",
              "          const docLinkHtml = 'Like what you see? Visit the ' +\n",
              "            '<a target=\"_blank\" href=https://colab.research.google.com/notebooks/data_table.ipynb>data table notebook</a>'\n",
              "            + ' to learn more about interactive tables.';\n",
              "          element.innerHTML = '';\n",
              "          dataTable['output_type'] = 'display_data';\n",
              "          await google.colab.output.renderOutput(dataTable, element);\n",
              "          const docLink = document.createElement('div');\n",
              "          docLink.innerHTML = docLinkHtml;\n",
              "          element.appendChild(docLink);\n",
              "        }\n",
              "      </script>\n",
              "    </div>\n",
              "  </div>\n",
              "  "
            ]
          },
          "metadata": {},
          "execution_count": 108
        }
      ]
    },
    {
      "cell_type": "markdown",
      "source": [
        "### Add .5% grace marks "
      ],
      "metadata": {
        "id": "YSf6go734bxV"
      }
    },
    {
      "cell_type": "code",
      "source": [
        "pdf['marks'] = pdf['marks']+0.05*pdf['marks']\n",
        "pdf"
      ],
      "metadata": {
        "colab": {
          "base_uri": "https://localhost:8080/",
          "height": 363
        },
        "id": "ZWYtbTb74aIs",
        "outputId": "a6cdc0af-674f-4728-b0e9-4f6672b32a9f"
      },
      "execution_count": null,
      "outputs": [
        {
          "output_type": "execute_result",
          "data": {
            "text/plain": [
              "   roll     name class    marks  age gender\n",
              "0     1     anil    TE  59.6085   22      M\n",
              "1     2     amit    TE  62.7585   21      M\n",
              "2     3   aniket    BE  80.7240   19      M\n",
              "3     4  ajinkya    TE  73.1430   20      M\n",
              "4     5     asha    TE  66.4440   20      F\n",
              "5     6   ayesha    BE  52.0275   20      F\n",
              "6     7     amar    BE  68.6070   19      M\n",
              "7     8    amita    BE  71.7465   23      F\n",
              "8     9     amol    TE  59.5875   20      M\n",
              "9    10    anmol    BE  82.5930   21      M"
            ],
            "text/html": [
              "\n",
              "  <div id=\"df-b65b18e3-37aa-48b8-a345-6e1f49bc686d\">\n",
              "    <div class=\"colab-df-container\">\n",
              "      <div>\n",
              "<style scoped>\n",
              "    .dataframe tbody tr th:only-of-type {\n",
              "        vertical-align: middle;\n",
              "    }\n",
              "\n",
              "    .dataframe tbody tr th {\n",
              "        vertical-align: top;\n",
              "    }\n",
              "\n",
              "    .dataframe thead th {\n",
              "        text-align: right;\n",
              "    }\n",
              "</style>\n",
              "<table border=\"1\" class=\"dataframe\">\n",
              "  <thead>\n",
              "    <tr style=\"text-align: right;\">\n",
              "      <th></th>\n",
              "      <th>roll</th>\n",
              "      <th>name</th>\n",
              "      <th>class</th>\n",
              "      <th>marks</th>\n",
              "      <th>age</th>\n",
              "      <th>gender</th>\n",
              "    </tr>\n",
              "  </thead>\n",
              "  <tbody>\n",
              "    <tr>\n",
              "      <th>0</th>\n",
              "      <td>1</td>\n",
              "      <td>anil</td>\n",
              "      <td>TE</td>\n",
              "      <td>59.6085</td>\n",
              "      <td>22</td>\n",
              "      <td>M</td>\n",
              "    </tr>\n",
              "    <tr>\n",
              "      <th>1</th>\n",
              "      <td>2</td>\n",
              "      <td>amit</td>\n",
              "      <td>TE</td>\n",
              "      <td>62.7585</td>\n",
              "      <td>21</td>\n",
              "      <td>M</td>\n",
              "    </tr>\n",
              "    <tr>\n",
              "      <th>2</th>\n",
              "      <td>3</td>\n",
              "      <td>aniket</td>\n",
              "      <td>BE</td>\n",
              "      <td>80.7240</td>\n",
              "      <td>19</td>\n",
              "      <td>M</td>\n",
              "    </tr>\n",
              "    <tr>\n",
              "      <th>3</th>\n",
              "      <td>4</td>\n",
              "      <td>ajinkya</td>\n",
              "      <td>TE</td>\n",
              "      <td>73.1430</td>\n",
              "      <td>20</td>\n",
              "      <td>M</td>\n",
              "    </tr>\n",
              "    <tr>\n",
              "      <th>4</th>\n",
              "      <td>5</td>\n",
              "      <td>asha</td>\n",
              "      <td>TE</td>\n",
              "      <td>66.4440</td>\n",
              "      <td>20</td>\n",
              "      <td>F</td>\n",
              "    </tr>\n",
              "    <tr>\n",
              "      <th>5</th>\n",
              "      <td>6</td>\n",
              "      <td>ayesha</td>\n",
              "      <td>BE</td>\n",
              "      <td>52.0275</td>\n",
              "      <td>20</td>\n",
              "      <td>F</td>\n",
              "    </tr>\n",
              "    <tr>\n",
              "      <th>6</th>\n",
              "      <td>7</td>\n",
              "      <td>amar</td>\n",
              "      <td>BE</td>\n",
              "      <td>68.6070</td>\n",
              "      <td>19</td>\n",
              "      <td>M</td>\n",
              "    </tr>\n",
              "    <tr>\n",
              "      <th>7</th>\n",
              "      <td>8</td>\n",
              "      <td>amita</td>\n",
              "      <td>BE</td>\n",
              "      <td>71.7465</td>\n",
              "      <td>23</td>\n",
              "      <td>F</td>\n",
              "    </tr>\n",
              "    <tr>\n",
              "      <th>8</th>\n",
              "      <td>9</td>\n",
              "      <td>amol</td>\n",
              "      <td>TE</td>\n",
              "      <td>59.5875</td>\n",
              "      <td>20</td>\n",
              "      <td>M</td>\n",
              "    </tr>\n",
              "    <tr>\n",
              "      <th>9</th>\n",
              "      <td>10</td>\n",
              "      <td>anmol</td>\n",
              "      <td>BE</td>\n",
              "      <td>82.5930</td>\n",
              "      <td>21</td>\n",
              "      <td>M</td>\n",
              "    </tr>\n",
              "  </tbody>\n",
              "</table>\n",
              "</div>\n",
              "      <button class=\"colab-df-convert\" onclick=\"convertToInteractive('df-b65b18e3-37aa-48b8-a345-6e1f49bc686d')\"\n",
              "              title=\"Convert this dataframe to an interactive table.\"\n",
              "              style=\"display:none;\">\n",
              "        \n",
              "  <svg xmlns=\"http://www.w3.org/2000/svg\" height=\"24px\"viewBox=\"0 0 24 24\"\n",
              "       width=\"24px\">\n",
              "    <path d=\"M0 0h24v24H0V0z\" fill=\"none\"/>\n",
              "    <path d=\"M18.56 5.44l.94 2.06.94-2.06 2.06-.94-2.06-.94-.94-2.06-.94 2.06-2.06.94zm-11 1L8.5 8.5l.94-2.06 2.06-.94-2.06-.94L8.5 2.5l-.94 2.06-2.06.94zm10 10l.94 2.06.94-2.06 2.06-.94-2.06-.94-.94-2.06-.94 2.06-2.06.94z\"/><path d=\"M17.41 7.96l-1.37-1.37c-.4-.4-.92-.59-1.43-.59-.52 0-1.04.2-1.43.59L10.3 9.45l-7.72 7.72c-.78.78-.78 2.05 0 2.83L4 21.41c.39.39.9.59 1.41.59.51 0 1.02-.2 1.41-.59l7.78-7.78 2.81-2.81c.8-.78.8-2.07 0-2.86zM5.41 20L4 18.59l7.72-7.72 1.47 1.35L5.41 20z\"/>\n",
              "  </svg>\n",
              "      </button>\n",
              "      \n",
              "  <style>\n",
              "    .colab-df-container {\n",
              "      display:flex;\n",
              "      flex-wrap:wrap;\n",
              "      gap: 12px;\n",
              "    }\n",
              "\n",
              "    .colab-df-convert {\n",
              "      background-color: #E8F0FE;\n",
              "      border: none;\n",
              "      border-radius: 50%;\n",
              "      cursor: pointer;\n",
              "      display: none;\n",
              "      fill: #1967D2;\n",
              "      height: 32px;\n",
              "      padding: 0 0 0 0;\n",
              "      width: 32px;\n",
              "    }\n",
              "\n",
              "    .colab-df-convert:hover {\n",
              "      background-color: #E2EBFA;\n",
              "      box-shadow: 0px 1px 2px rgba(60, 64, 67, 0.3), 0px 1px 3px 1px rgba(60, 64, 67, 0.15);\n",
              "      fill: #174EA6;\n",
              "    }\n",
              "\n",
              "    [theme=dark] .colab-df-convert {\n",
              "      background-color: #3B4455;\n",
              "      fill: #D2E3FC;\n",
              "    }\n",
              "\n",
              "    [theme=dark] .colab-df-convert:hover {\n",
              "      background-color: #434B5C;\n",
              "      box-shadow: 0px 1px 3px 1px rgba(0, 0, 0, 0.15);\n",
              "      filter: drop-shadow(0px 1px 2px rgba(0, 0, 0, 0.3));\n",
              "      fill: #FFFFFF;\n",
              "    }\n",
              "  </style>\n",
              "\n",
              "      <script>\n",
              "        const buttonEl =\n",
              "          document.querySelector('#df-b65b18e3-37aa-48b8-a345-6e1f49bc686d button.colab-df-convert');\n",
              "        buttonEl.style.display =\n",
              "          google.colab.kernel.accessAllowed ? 'block' : 'none';\n",
              "\n",
              "        async function convertToInteractive(key) {\n",
              "          const element = document.querySelector('#df-b65b18e3-37aa-48b8-a345-6e1f49bc686d');\n",
              "          const dataTable =\n",
              "            await google.colab.kernel.invokeFunction('convertToInteractive',\n",
              "                                                     [key], {});\n",
              "          if (!dataTable) return;\n",
              "\n",
              "          const docLinkHtml = 'Like what you see? Visit the ' +\n",
              "            '<a target=\"_blank\" href=https://colab.research.google.com/notebooks/data_table.ipynb>data table notebook</a>'\n",
              "            + ' to learn more about interactive tables.';\n",
              "          element.innerHTML = '';\n",
              "          dataTable['output_type'] = 'display_data';\n",
              "          await google.colab.output.renderOutput(dataTable, element);\n",
              "          const docLink = document.createElement('div');\n",
              "          docLink.innerHTML = docLinkHtml;\n",
              "          element.appendChild(docLink);\n",
              "        }\n",
              "      </script>\n",
              "    </div>\n",
              "  </div>\n",
              "  "
            ]
          },
          "metadata": {},
          "execution_count": 111
        }
      ]
    },
    {
      "cell_type": "code",
      "source": [
        "pdf['name'] = pdf['name'].str.upper()\n",
        "pdf"
      ],
      "metadata": {
        "colab": {
          "base_uri": "https://localhost:8080/",
          "height": 363
        },
        "id": "fSq4s4UA4tOM",
        "outputId": "8441b73f-a551-41fe-ffd3-5a83236b68f3"
      },
      "execution_count": null,
      "outputs": [
        {
          "output_type": "execute_result",
          "data": {
            "text/plain": [
              "   roll     name class    marks  age gender\n",
              "0     1     ANIL    TE  59.6085   22      M\n",
              "1     2     AMIT    TE  62.7585   21      M\n",
              "2     3   ANIKET    BE  80.7240   19      M\n",
              "3     4  AJINKYA    TE  73.1430   20      M\n",
              "4     5     ASHA    TE  66.4440   20      F\n",
              "5     6   AYESHA    BE  52.0275   20      F\n",
              "6     7     AMAR    BE  68.6070   19      M\n",
              "7     8    AMITA    BE  71.7465   23      F\n",
              "8     9     AMOL    TE  59.5875   20      M\n",
              "9    10    ANMOL    BE  82.5930   21      M"
            ],
            "text/html": [
              "\n",
              "  <div id=\"df-cd3b3267-feb5-44eb-a1a8-b7ffcabcd97b\">\n",
              "    <div class=\"colab-df-container\">\n",
              "      <div>\n",
              "<style scoped>\n",
              "    .dataframe tbody tr th:only-of-type {\n",
              "        vertical-align: middle;\n",
              "    }\n",
              "\n",
              "    .dataframe tbody tr th {\n",
              "        vertical-align: top;\n",
              "    }\n",
              "\n",
              "    .dataframe thead th {\n",
              "        text-align: right;\n",
              "    }\n",
              "</style>\n",
              "<table border=\"1\" class=\"dataframe\">\n",
              "  <thead>\n",
              "    <tr style=\"text-align: right;\">\n",
              "      <th></th>\n",
              "      <th>roll</th>\n",
              "      <th>name</th>\n",
              "      <th>class</th>\n",
              "      <th>marks</th>\n",
              "      <th>age</th>\n",
              "      <th>gender</th>\n",
              "    </tr>\n",
              "  </thead>\n",
              "  <tbody>\n",
              "    <tr>\n",
              "      <th>0</th>\n",
              "      <td>1</td>\n",
              "      <td>ANIL</td>\n",
              "      <td>TE</td>\n",
              "      <td>59.6085</td>\n",
              "      <td>22</td>\n",
              "      <td>M</td>\n",
              "    </tr>\n",
              "    <tr>\n",
              "      <th>1</th>\n",
              "      <td>2</td>\n",
              "      <td>AMIT</td>\n",
              "      <td>TE</td>\n",
              "      <td>62.7585</td>\n",
              "      <td>21</td>\n",
              "      <td>M</td>\n",
              "    </tr>\n",
              "    <tr>\n",
              "      <th>2</th>\n",
              "      <td>3</td>\n",
              "      <td>ANIKET</td>\n",
              "      <td>BE</td>\n",
              "      <td>80.7240</td>\n",
              "      <td>19</td>\n",
              "      <td>M</td>\n",
              "    </tr>\n",
              "    <tr>\n",
              "      <th>3</th>\n",
              "      <td>4</td>\n",
              "      <td>AJINKYA</td>\n",
              "      <td>TE</td>\n",
              "      <td>73.1430</td>\n",
              "      <td>20</td>\n",
              "      <td>M</td>\n",
              "    </tr>\n",
              "    <tr>\n",
              "      <th>4</th>\n",
              "      <td>5</td>\n",
              "      <td>ASHA</td>\n",
              "      <td>TE</td>\n",
              "      <td>66.4440</td>\n",
              "      <td>20</td>\n",
              "      <td>F</td>\n",
              "    </tr>\n",
              "    <tr>\n",
              "      <th>5</th>\n",
              "      <td>6</td>\n",
              "      <td>AYESHA</td>\n",
              "      <td>BE</td>\n",
              "      <td>52.0275</td>\n",
              "      <td>20</td>\n",
              "      <td>F</td>\n",
              "    </tr>\n",
              "    <tr>\n",
              "      <th>6</th>\n",
              "      <td>7</td>\n",
              "      <td>AMAR</td>\n",
              "      <td>BE</td>\n",
              "      <td>68.6070</td>\n",
              "      <td>19</td>\n",
              "      <td>M</td>\n",
              "    </tr>\n",
              "    <tr>\n",
              "      <th>7</th>\n",
              "      <td>8</td>\n",
              "      <td>AMITA</td>\n",
              "      <td>BE</td>\n",
              "      <td>71.7465</td>\n",
              "      <td>23</td>\n",
              "      <td>F</td>\n",
              "    </tr>\n",
              "    <tr>\n",
              "      <th>8</th>\n",
              "      <td>9</td>\n",
              "      <td>AMOL</td>\n",
              "      <td>TE</td>\n",
              "      <td>59.5875</td>\n",
              "      <td>20</td>\n",
              "      <td>M</td>\n",
              "    </tr>\n",
              "    <tr>\n",
              "      <th>9</th>\n",
              "      <td>10</td>\n",
              "      <td>ANMOL</td>\n",
              "      <td>BE</td>\n",
              "      <td>82.5930</td>\n",
              "      <td>21</td>\n",
              "      <td>M</td>\n",
              "    </tr>\n",
              "  </tbody>\n",
              "</table>\n",
              "</div>\n",
              "      <button class=\"colab-df-convert\" onclick=\"convertToInteractive('df-cd3b3267-feb5-44eb-a1a8-b7ffcabcd97b')\"\n",
              "              title=\"Convert this dataframe to an interactive table.\"\n",
              "              style=\"display:none;\">\n",
              "        \n",
              "  <svg xmlns=\"http://www.w3.org/2000/svg\" height=\"24px\"viewBox=\"0 0 24 24\"\n",
              "       width=\"24px\">\n",
              "    <path d=\"M0 0h24v24H0V0z\" fill=\"none\"/>\n",
              "    <path d=\"M18.56 5.44l.94 2.06.94-2.06 2.06-.94-2.06-.94-.94-2.06-.94 2.06-2.06.94zm-11 1L8.5 8.5l.94-2.06 2.06-.94-2.06-.94L8.5 2.5l-.94 2.06-2.06.94zm10 10l.94 2.06.94-2.06 2.06-.94-2.06-.94-.94-2.06-.94 2.06-2.06.94z\"/><path d=\"M17.41 7.96l-1.37-1.37c-.4-.4-.92-.59-1.43-.59-.52 0-1.04.2-1.43.59L10.3 9.45l-7.72 7.72c-.78.78-.78 2.05 0 2.83L4 21.41c.39.39.9.59 1.41.59.51 0 1.02-.2 1.41-.59l7.78-7.78 2.81-2.81c.8-.78.8-2.07 0-2.86zM5.41 20L4 18.59l7.72-7.72 1.47 1.35L5.41 20z\"/>\n",
              "  </svg>\n",
              "      </button>\n",
              "      \n",
              "  <style>\n",
              "    .colab-df-container {\n",
              "      display:flex;\n",
              "      flex-wrap:wrap;\n",
              "      gap: 12px;\n",
              "    }\n",
              "\n",
              "    .colab-df-convert {\n",
              "      background-color: #E8F0FE;\n",
              "      border: none;\n",
              "      border-radius: 50%;\n",
              "      cursor: pointer;\n",
              "      display: none;\n",
              "      fill: #1967D2;\n",
              "      height: 32px;\n",
              "      padding: 0 0 0 0;\n",
              "      width: 32px;\n",
              "    }\n",
              "\n",
              "    .colab-df-convert:hover {\n",
              "      background-color: #E2EBFA;\n",
              "      box-shadow: 0px 1px 2px rgba(60, 64, 67, 0.3), 0px 1px 3px 1px rgba(60, 64, 67, 0.15);\n",
              "      fill: #174EA6;\n",
              "    }\n",
              "\n",
              "    [theme=dark] .colab-df-convert {\n",
              "      background-color: #3B4455;\n",
              "      fill: #D2E3FC;\n",
              "    }\n",
              "\n",
              "    [theme=dark] .colab-df-convert:hover {\n",
              "      background-color: #434B5C;\n",
              "      box-shadow: 0px 1px 3px 1px rgba(0, 0, 0, 0.15);\n",
              "      filter: drop-shadow(0px 1px 2px rgba(0, 0, 0, 0.3));\n",
              "      fill: #FFFFFF;\n",
              "    }\n",
              "  </style>\n",
              "\n",
              "      <script>\n",
              "        const buttonEl =\n",
              "          document.querySelector('#df-cd3b3267-feb5-44eb-a1a8-b7ffcabcd97b button.colab-df-convert');\n",
              "        buttonEl.style.display =\n",
              "          google.colab.kernel.accessAllowed ? 'block' : 'none';\n",
              "\n",
              "        async function convertToInteractive(key) {\n",
              "          const element = document.querySelector('#df-cd3b3267-feb5-44eb-a1a8-b7ffcabcd97b');\n",
              "          const dataTable =\n",
              "            await google.colab.kernel.invokeFunction('convertToInteractive',\n",
              "                                                     [key], {});\n",
              "          if (!dataTable) return;\n",
              "\n",
              "          const docLinkHtml = 'Like what you see? Visit the ' +\n",
              "            '<a target=\"_blank\" href=https://colab.research.google.com/notebooks/data_table.ipynb>data table notebook</a>'\n",
              "            + ' to learn more about interactive tables.';\n",
              "          element.innerHTML = '';\n",
              "          dataTable['output_type'] = 'display_data';\n",
              "          await google.colab.output.renderOutput(dataTable, element);\n",
              "          const docLink = document.createElement('div');\n",
              "          docLink.innerHTML = docLinkHtml;\n",
              "          element.appendChild(docLink);\n",
              "        }\n",
              "      </script>\n",
              "    </div>\n",
              "  </div>\n",
              "  "
            ]
          },
          "metadata": {},
          "execution_count": 114
        }
      ]
    },
    {
      "cell_type": "code",
      "source": [
        "pdf['marks'].plot()"
      ],
      "metadata": {
        "colab": {
          "base_uri": "https://localhost:8080/",
          "height": 282
        },
        "id": "glXTixQK7kbA",
        "outputId": "71957c9b-7b22-47af-b007-347f2beaa1e5"
      },
      "execution_count": null,
      "outputs": [
        {
          "output_type": "execute_result",
          "data": {
            "text/plain": [
              "<matplotlib.axes._subplots.AxesSubplot at 0x7fba47d4a8b0>"
            ]
          },
          "metadata": {},
          "execution_count": 115
        },
        {
          "output_type": "display_data",
          "data": {
            "text/plain": [
              "<Figure size 432x288 with 1 Axes>"
            ],
            "image/png": "[encoded data removed]"
          },
          "metadata": {
            "needs_background": "light"
          }
        }
      ]
    },
    {
      "cell_type": "code",
      "source": [
        "pdf.plot()"
      ],
      "metadata": {
        "colab": {
          "base_uri": "https://localhost:8080/",
          "height": 282
        },
        "id": "ycafBIdk7oVy",
        "outputId": "182003aa-9f70-48ef-b21b-ef36cde6bafd"
      },
      "execution_count": null,
      "outputs": [
        {
          "output_type": "execute_result",
          "data": {
            "text/plain": [
              "<matplotlib.axes._subplots.AxesSubplot at 0x7fba470c17c0>"
            ]
          },
          "metadata": {},
          "execution_count": 117
        },
        {
          "output_type": "display_data",
          "data": {
            "text/plain": [
              "<Figure size 432x288 with 1 Axes>"
            ],
            "image/png": "[encoded data removed]"
          },
          "metadata": {
            "needs_background": "light"
          }
        }
      ]
    },
    {
      "cell_type": "code",
      "source": [
        "pdf.plot.bar()"
      ],
      "metadata": {
        "colab": {
          "base_uri": "https://localhost:8080/",
          "height": 279
        },
        "id": "hGa8P8Fc8Pom",
        "outputId": "5aab570b-5ba9-44e6-80ea-75bdca66f8a3"
      },
      "execution_count": null,
      "outputs": [
        {
          "output_type": "execute_result",
          "data": {
            "text/plain": [
              "<matplotlib.axes._subplots.AxesSubplot at 0x7fba46fe3640>"
            ]
          },
          "metadata": {},
          "execution_count": 119
        },
        {
          "output_type": "display_data",
          "data": {
            "text/plain": [
              "<Figure size 432x288 with 1 Axes>"
            ],
            "image/png": "[encoded data removed]"
          },
          "metadata": {
            "needs_background": "light"
          }
        }
      ]
    },
    {
      "cell_type": "code",
      "source": [
        "pdf['marks'].plot.hist()"
      ],
      "metadata": {
        "colab": {
          "base_uri": "https://localhost:8080/",
          "height": 282
        },
        "id": "2whDTPSa8YY0",
        "outputId": "28a2aa56-29f8-461b-9e7d-73377ddb7e15"
      },
      "execution_count": null,
      "outputs": [
        {
          "output_type": "execute_result",
          "data": {
            "text/plain": [
              "<matplotlib.axes._subplots.AxesSubplot at 0x7fba3d8531f0>"
            ]
          },
          "metadata": {},
          "execution_count": 126
        },
        {
          "output_type": "display_data",
          "data": {
            "text/plain": [
              "<Figure size 432x288 with 1 Axes>"
            ],
            "image/png": "[encoded data removed]"
          },
          "metadata": {
            "needs_background": "light"
          }
        }
      ]
    },
    {
      "cell_type": "code",
      "source": [
        "pdf['age'].plot.box()"
      ],
      "metadata": {
        "colab": {
          "base_uri": "https://localhost:8080/",
          "height": 282
        },
        "id": "mkQ_GorD8uEN",
        "outputId": "6f64ef5e-a775-4e6b-ea1c-a2b967aec7f6"
      },
      "execution_count": null,
      "outputs": [
        {
          "output_type": "execute_result",
          "data": {
            "text/plain": [
              "<matplotlib.axes._subplots.AxesSubplot at 0x7fba3d8dcac0>"
            ]
          },
          "metadata": {},
          "execution_count": 127
        },
        {
          "output_type": "display_data",
          "data": {
            "text/plain": [
              "<Figure size 432x288 with 1 Axes>"
            ],
            "image/png": "[encoded data removed]"
          },
          "metadata": {
            "needs_background": "light"
          }
        }
      ]
    },
    {
      "cell_type": "code",
      "source": [
        "pdf['marks'].plot.box()"
      ],
      "metadata": {
        "colab": {
          "base_uri": "https://localhost:8080/",
          "height": 282
        },
        "id": "fcFj3G209DNp",
        "outputId": "3b34ecc1-0e64-4971-d0e5-c359a9c6f61d"
      },
      "execution_count": null,
      "outputs": [
        {
          "output_type": "execute_result",
          "data": {
            "text/plain": [
              "<matplotlib.axes._subplots.AxesSubplot at 0x7fba3d6ce550>"
            ]
          },
          "metadata": {},
          "execution_count": 129
        },
        {
          "output_type": "display_data",
          "data": {
            "text/plain": [
              "<Figure size 432x288 with 1 Axes>"
            ],
            "image/png": "[encoded data removed]"
          },
          "metadata": {
            "needs_background": "light"
          }
        }
      ]
    },
    {
      "cell_type": "code",
      "source": [
        "df4.show(n=3, vertical=True)"
      ],
      "metadata": {
        "colab": {
          "base_uri": "https://localhost:8080/"
        },
        "id": "Y938E_vD9_KP",
        "outputId": "bc844bb9-92ad-44f1-9296-2918a369e199"
      },
      "execution_count": null,
      "outputs": [
        {
          "output_type": "stream",
          "name": "stdout",
          "text": [
            "-RECORD 0-------\n",
            " roll  | 1      \n",
            " name  | anil   \n",
            " class | TE     \n",
            " marks | 56.77  \n",
            " age   | 22     \n",
            "-RECORD 1-------\n",
            " roll  | 2      \n",
            " name  | amit   \n",
            " class | TE     \n",
            " marks | 59.77  \n",
            " age   | 21     \n",
            "-RECORD 2-------\n",
            " roll  | 3      \n",
            " name  | aniket \n",
            " class | BE     \n",
            " marks | 76.88  \n",
            " age   | 19     \n",
            "only showing top 3 rows\n",
            "\n"
          ]
        }
      ]
    },
    {
      "cell_type": "code",
      "source": [
        "df4.orderBy('marks').show(4)"
      ],
      "metadata": {
        "colab": {
          "base_uri": "https://localhost:8080/"
        },
        "id": "aDCKn6NG-TTd",
        "outputId": "9e0359f8-0584-49a0-aa88-14ed88a44b38"
      },
      "execution_count": null,
      "outputs": [
        {
          "output_type": "stream",
          "name": "stdout",
          "text": [
            "+----+------+-----+-----+---+\n",
            "|roll|  name|class|marks|age|\n",
            "+----+------+-----+-----+---+\n",
            "|   6|ayesha|   BE|49.55| 20|\n",
            "|   9|  amol|   TE|56.75| 20|\n",
            "|   1|  anil|   TE|56.77| 22|\n",
            "|   2|  amit|   TE|59.77| 21|\n",
            "+----+------+-----+-----+---+\n",
            "only showing top 4 rows\n",
            "\n"
          ]
        }
      ]
    },
    {
      "cell_type": "code",
      "source": [
        "pdf.sort_values(by='marks', ascending=False).head()"
      ],
      "metadata": {
        "colab": {
          "base_uri": "https://localhost:8080/",
          "height": 206
        },
        "id": "47WciMek-32L",
        "outputId": "21af7c60-ebd7-4a79-b17f-b8637eaffae7"
      },
      "execution_count": null,
      "outputs": [
        {
          "output_type": "execute_result",
          "data": {
            "text/plain": [
              "   roll     name class    marks  age gender\n",
              "9    10    ANMOL    BE  82.5930   21      M\n",
              "2     3   ANIKET    BE  80.7240   19      M\n",
              "3     4  AJINKYA    TE  73.1430   20      M\n",
              "7     8    AMITA    BE  71.7465   23      F\n",
              "6     7     AMAR    BE  68.6070   19      M"
            ],
            "text/html": [
              "\n",
              "  <div id=\"df-dd85c9fb-ba17-40cf-861f-9912dddcc773\">\n",
              "    <div class=\"colab-df-container\">\n",
              "      <div>\n",
              "<style scoped>\n",
              "    .dataframe tbody tr th:only-of-type {\n",
              "        vertical-align: middle;\n",
              "    }\n",
              "\n",
              "    .dataframe tbody tr th {\n",
              "        vertical-align: top;\n",
              "    }\n",
              "\n",
              "    .dataframe thead th {\n",
              "        text-align: right;\n",
              "    }\n",
              "</style>\n",
              "<table border=\"1\" class=\"dataframe\">\n",
              "  <thead>\n",
              "    <tr style=\"text-align: right;\">\n",
              "      <th></th>\n",
              "      <th>roll</th>\n",
              "      <th>name</th>\n",
              "      <th>class</th>\n",
              "      <th>marks</th>\n",
              "      <th>age</th>\n",
              "      <th>gender</th>\n",
              "    </tr>\n",
              "  </thead>\n",
              "  <tbody>\n",
              "    <tr>\n",
              "      <th>9</th>\n",
              "      <td>10</td>\n",
              "      <td>ANMOL</td>\n",
              "      <td>BE</td>\n",
              "      <td>82.5930</td>\n",
              "      <td>21</td>\n",
              "      <td>M</td>\n",
              "    </tr>\n",
              "    <tr>\n",
              "      <th>2</th>\n",
              "      <td>3</td>\n",
              "      <td>ANIKET</td>\n",
              "      <td>BE</td>\n",
              "      <td>80.7240</td>\n",
              "      <td>19</td>\n",
              "      <td>M</td>\n",
              "    </tr>\n",
              "    <tr>\n",
              "      <th>3</th>\n",
              "      <td>4</td>\n",
              "      <td>AJINKYA</td>\n",
              "      <td>TE</td>\n",
              "      <td>73.1430</td>\n",
              "      <td>20</td>\n",
              "      <td>M</td>\n",
              "    </tr>\n",
              "    <tr>\n",
              "      <th>7</th>\n",
              "      <td>8</td>\n",
              "      <td>AMITA</td>\n",
              "      <td>BE</td>\n",
              "      <td>71.7465</td>\n",
              "      <td>23</td>\n",
              "      <td>F</td>\n",
              "    </tr>\n",
              "    <tr>\n",
              "      <th>6</th>\n",
              "      <td>7</td>\n",
              "      <td>AMAR</td>\n",
              "      <td>BE</td>\n",
              "      <td>68.6070</td>\n",
              "      <td>19</td>\n",
              "      <td>M</td>\n",
              "    </tr>\n",
              "  </tbody>\n",
              "</table>\n",
              "</div>\n",
              "      <button class=\"colab-df-convert\" onclick=\"convertToInteractive('df-dd85c9fb-ba17-40cf-861f-9912dddcc773')\"\n",
              "              title=\"Convert this dataframe to an interactive table.\"\n",
              "              style=\"display:none;\">\n",
              "        \n",
              "  <svg xmlns=\"http://www.w3.org/2000/svg\" height=\"24px\"viewBox=\"0 0 24 24\"\n",
              "       width=\"24px\">\n",
              "    <path d=\"M0 0h24v24H0V0z\" fill=\"none\"/>\n",
              "    <path d=\"M18.56 5.44l.94 2.06.94-2.06 2.06-.94-2.06-.94-.94-2.06-.94 2.06-2.06.94zm-11 1L8.5 8.5l.94-2.06 2.06-.94-2.06-.94L8.5 2.5l-.94 2.06-2.06.94zm10 10l.94 2.06.94-2.06 2.06-.94-2.06-.94-.94-2.06-.94 2.06-2.06.94z\"/><path d=\"M17.41 7.96l-1.37-1.37c-.4-.4-.92-.59-1.43-.59-.52 0-1.04.2-1.43.59L10.3 9.45l-7.72 7.72c-.78.78-.78 2.05 0 2.83L4 21.41c.39.39.9.59 1.41.59.51 0 1.02-.2 1.41-.59l7.78-7.78 2.81-2.81c.8-.78.8-2.07 0-2.86zM5.41 20L4 18.59l7.72-7.72 1.47 1.35L5.41 20z\"/>\n",
              "  </svg>\n",
              "      </button>\n",
              "      \n",
              "  <style>\n",
              "    .colab-df-container {\n",
              "      display:flex;\n",
              "      flex-wrap:wrap;\n",
              "      gap: 12px;\n",
              "    }\n",
              "\n",
              "    .colab-df-convert {\n",
              "      background-color: #E8F0FE;\n",
              "      border: none;\n",
              "      border-radius: 50%;\n",
              "      cursor: pointer;\n",
              "      display: none;\n",
              "      fill: #1967D2;\n",
              "      height: 32px;\n",
              "      padding: 0 0 0 0;\n",
              "      width: 32px;\n",
              "    }\n",
              "\n",
              "    .colab-df-convert:hover {\n",
              "      background-color: #E2EBFA;\n",
              "      box-shadow: 0px 1px 2px rgba(60, 64, 67, 0.3), 0px 1px 3px 1px rgba(60, 64, 67, 0.15);\n",
              "      fill: #174EA6;\n",
              "    }\n",
              "\n",
              "    [theme=dark] .colab-df-convert {\n",
              "      background-color: #3B4455;\n",
              "      fill: #D2E3FC;\n",
              "    }\n",
              "\n",
              "    [theme=dark] .colab-df-convert:hover {\n",
              "      background-color: #434B5C;\n",
              "      box-shadow: 0px 1px 3px 1px rgba(0, 0, 0, 0.15);\n",
              "      filter: drop-shadow(0px 1px 2px rgba(0, 0, 0, 0.3));\n",
              "      fill: #FFFFFF;\n",
              "    }\n",
              "  </style>\n",
              "\n",
              "      <script>\n",
              "        const buttonEl =\n",
              "          document.querySelector('#df-dd85c9fb-ba17-40cf-861f-9912dddcc773 button.colab-df-convert');\n",
              "        buttonEl.style.display =\n",
              "          google.colab.kernel.accessAllowed ? 'block' : 'none';\n",
              "\n",
              "        async function convertToInteractive(key) {\n",
              "          const element = document.querySelector('#df-dd85c9fb-ba17-40cf-861f-9912dddcc773');\n",
              "          const dataTable =\n",
              "            await google.colab.kernel.invokeFunction('convertToInteractive',\n",
              "                                                     [key], {});\n",
              "          if (!dataTable) return;\n",
              "\n",
              "          const docLinkHtml = 'Like what you see? Visit the ' +\n",
              "            '<a target=\"_blank\" href=https://colab.research.google.com/notebooks/data_table.ipynb>data table notebook</a>'\n",
              "            + ' to learn more about interactive tables.';\n",
              "          element.innerHTML = '';\n",
              "          dataTable['output_type'] = 'display_data';\n",
              "          await google.colab.output.renderOutput(dataTable, element);\n",
              "          const docLink = document.createElement('div');\n",
              "          docLink.innerHTML = docLinkHtml;\n",
              "          element.appendChild(docLink);\n",
              "        }\n",
              "      </script>\n",
              "    </div>\n",
              "  </div>\n",
              "  "
            ]
          },
          "metadata": {},
          "execution_count": 136
        }
      ]
    },
    {
      "cell_type": "code",
      "source": [
        "df4.describe().show()"
      ],
      "metadata": {
        "colab": {
          "base_uri": "https://localhost:8080/"
        },
        "id": "EaUOTuaj_amM",
        "outputId": "634b5f52-6ece-40d3-ff2c-6bee9ae7fd03"
      },
      "execution_count": null,
      "outputs": [
        {
          "output_type": "stream",
          "name": "stdout",
          "text": [
            "+-------+------------------+-------+-----+-----------------+------------------+\n",
            "|summary|              roll|   name|class|            marks|               age|\n",
            "+-------+------------------+-------+-----+-----------------+------------------+\n",
            "|  count|                10|     10|   10|               10|                10|\n",
            "|   mean|               5.5|   null| null|           64.499|              20.5|\n",
            "| stddev|3.0276503540974917|   null| null|9.207178901994537|1.2692955176439846|\n",
            "|    min|                 1|ajinkya|   BE|            49.55|                19|\n",
            "|    max|                10| ayesha|   TE|            78.66|                23|\n",
            "+-------+------------------+-------+-----+-----------------+------------------+\n",
            "\n"
          ]
        }
      ]
    },
    {
      "cell_type": "code",
      "source": [
        "df4.describe('marks','age').show()"
      ],
      "metadata": {
        "colab": {
          "base_uri": "https://localhost:8080/"
        },
        "id": "sUQYjMos_8yu",
        "outputId": "7fa6da9c-88a4-4013-fde1-f12e44032d06"
      },
      "execution_count": null,
      "outputs": [
        {
          "output_type": "stream",
          "name": "stdout",
          "text": [
            "+-------+-----------------+------------------+\n",
            "|summary|            marks|               age|\n",
            "+-------+-----------------+------------------+\n",
            "|  count|               10|                10|\n",
            "|   mean|           64.499|              20.5|\n",
            "| stddev|9.207178901994537|1.2692955176439846|\n",
            "|    min|            49.55|                19|\n",
            "|    max|            78.66|                23|\n",
            "+-------+-----------------+------------------+\n",
            "\n"
          ]
        }
      ]
    },
    {
      "cell_type": "code",
      "source": [
        "df4.agg({'marks':'stddev'}).show()"
      ],
      "metadata": {
        "colab": {
          "base_uri": "https://localhost:8080/"
        },
        "id": "0D0jBsQoATVO",
        "outputId": "7133b450-6f86-441e-a7f8-939e99b718b4"
      },
      "execution_count": null,
      "outputs": [
        {
          "output_type": "stream",
          "name": "stdout",
          "text": [
            "+-----------------+\n",
            "|    stddev(marks)|\n",
            "+-----------------+\n",
            "|9.207178901994537|\n",
            "+-----------------+\n",
            "\n"
          ]
        }
      ]
    },
    {
      "cell_type": "code",
      "source": [
        "df4.summary().show()"
      ],
      "metadata": {
        "colab": {
          "base_uri": "https://localhost:8080/"
        },
        "id": "efdl8HVgBFU0",
        "outputId": "750860d0-95cc-4160-fa96-5ee75a453d0c"
      },
      "execution_count": null,
      "outputs": [
        {
          "output_type": "stream",
          "name": "stdout",
          "text": [
            "+-------+------------------+-------+-----+-----------------+------------------+\n",
            "|summary|              roll|   name|class|            marks|               age|\n",
            "+-------+------------------+-------+-----+-----------------+------------------+\n",
            "|  count|                10|     10|   10|               10|                10|\n",
            "|   mean|               5.5|   null| null|           64.499|              20.5|\n",
            "| stddev|3.0276503540974917|   null| null|9.207178901994537|1.2692955176439846|\n",
            "|    min|                 1|ajinkya|   BE|            49.55|                19|\n",
            "|    25%|                 3|   null| null|            56.77|                20|\n",
            "|    50%|                 5|   null| null|            63.28|                20|\n",
            "|    75%|                 8|   null| null|            69.66|                21|\n",
            "|    max|                10| ayesha|   TE|            78.66|                23|\n",
            "+-------+------------------+-------+-----+-----------------+------------------+\n",
            "\n"
          ]
        }
      ]
    },
    {
      "cell_type": "code",
      "source": [
        "df4.summary('mean','50%').show()"
      ],
      "metadata": {
        "colab": {
          "base_uri": "https://localhost:8080/"
        },
        "id": "N_Igsd7VBaL6",
        "outputId": "d9b18c96-1d26-4a37-ffd5-79a7626b17cd"
      },
      "execution_count": null,
      "outputs": [
        {
          "output_type": "stream",
          "name": "stdout",
          "text": [
            "+-------+----+----+-----+------+----+\n",
            "|summary|roll|name|class| marks| age|\n",
            "+-------+----+----+-----+------+----+\n",
            "|   mean| 5.5|null| null|64.499|20.5|\n",
            "|    50%|   5|null| null| 63.28|  20|\n",
            "+-------+----+----+-----+------+----+\n",
            "\n"
          ]
        }
      ]
    }
  ]
}